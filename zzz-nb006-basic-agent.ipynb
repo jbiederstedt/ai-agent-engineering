{
 "cells": [
  {
   "cell_type": "markdown",
   "id": "be46161e-45e9-46d7-8214-bcbea10aff2e",
   "metadata": {},
   "source": [
    "# Basic Agent\n",
    "* Goal: we will build a similar app to the one we built in the previous exercise. The main difference between this app and the previous one is that **here the tools node responds back to the assistant instead of going to the END Node**.\n",
    "* This shows what is called the ReAct architecture: the LLM keeps using the tools until it gets a satisfactory response.\n",
    "    * act - the LLM calls a tool.\n",
    "    * observe - the tool passes the output back to the LLM.\n",
    "    * reason - the LLM decides what to do next (call another tool or respond directly)."
   ]
  },
  {
   "cell_type": "markdown",
   "id": "01911426-9083-45d7-966f-52a755633d57",
   "metadata": {},
   "source": [
    "## Setup"
   ]
  },
  {
   "cell_type": "markdown",
   "id": "871e0018-cba4-4959-881a-0a65093d202d",
   "metadata": {},
   "source": [
    "#### After you download the code from the github repository in your computer\n",
    "In terminal:\n",
    "* cd project_name\n",
    "* pyenv local 3.11.4\n",
    "* poetry install\n",
    "* poetry shell"
   ]
  },
  {
   "cell_type": "markdown",
   "id": "4065e336-d054-412c-8a3f-1fbec63e1bcd",
   "metadata": {},
   "source": [
    "#### To open the notebook with Jupyter Notebooks\n",
    "In terminal:\n",
    "* jupyter lab\n",
    "\n",
    "Go to the folder of notebooks and open the right notebook."
   ]
  },
  {
   "cell_type": "markdown",
   "id": "62dda8d4-80cf-4b8f-9981-94edda5e9911",
   "metadata": {},
   "source": [
    "#### To see the code in Virtual Studio Code or your editor of choice.\n",
    "* open Virtual Studio Code or your editor of choice.\n",
    "* open the project-folder\n",
    "* open the 002-setup.py file"
   ]
  },
  {
   "cell_type": "markdown",
   "id": "af743328-1bc8-4b01-85fb-fcb21c6499c2",
   "metadata": {},
   "source": [
    "## Create your .env file\n",
    "* In the github repo we have included a file named .env.example\n",
    "* Rename that file to .env file and here is where you will add your confidential api keys. Remember to include:\n",
    "* OPENAI_API_KEY=your_openai_api_key\n",
    "* LANGCHAIN_TRACING_V2=true\n",
    "* LANGCHAIN_ENDPOINT=https://api.smith.langchain.com\n",
    "* LANGCHAIN_API_KEY=your_langchain_api_key\n",
    "* LANGCHAIN_PROJECT=your_project_name"
   ]
  },
  {
   "cell_type": "markdown",
   "id": "40e766aa-f3e2-491f-be99-d0c6b700d47a",
   "metadata": {},
   "source": [
    "## Track operations\n",
    "From now on, we can track the operations **and the cost** of this project from LangSmith:\n",
    "* [smith.langchain.com](https://smith.langchain.com)"
   ]
  },
  {
   "cell_type": "markdown",
   "id": "4f99504a-1b8f-4360-b342-0b81ffa06aff",
   "metadata": {},
   "source": [
    "## Connect with the .env file located in the same directory of this notebook"
   ]
  },
  {
   "cell_type": "markdown",
   "id": "e39e5789-5bde-42e1-88dd-92dc8e363c24",
   "metadata": {},
   "source": [
    "If you are using the pre-loaded poetry shell, you do not need to install the following package because it is already pre-loaded for you:"
   ]
  },
  {
   "cell_type": "code",
   "execution_count": 1,
   "id": "c5514113-ddca-4ae9-9de6-0b9225b18f3c",
   "metadata": {},
   "outputs": [],
   "source": [
    "#pip install python-dotenv"
   ]
  },
  {
   "cell_type": "code",
   "execution_count": 2,
   "id": "fecd39d0-e72e-4bc2-8a68-2fa4008ea365",
   "metadata": {},
   "outputs": [],
   "source": [
    "import os\n",
    "from dotenv import load_dotenv, find_dotenv\n",
    "_ = load_dotenv(find_dotenv())\n",
    "openai_api_key = os.environ[\"OPENAI_API_KEY\"]"
   ]
  },
  {
   "cell_type": "markdown",
   "id": "03f4a923-b19e-498e-9be5-e47ec4a77d80",
   "metadata": {},
   "source": [
    "#### Install LangChain"
   ]
  },
  {
   "cell_type": "markdown",
   "id": "9fef1e5c-b7e2-4a04-96c5-8f64377b8eba",
   "metadata": {},
   "source": [
    "If you are using the pre-loaded poetry shell, you do not need to install the following package because it is already pre-loaded for you:"
   ]
  },
  {
   "cell_type": "code",
   "execution_count": 3,
   "id": "c1cf94ae-6c39-4475-9c5b-4b74d8d78753",
   "metadata": {},
   "outputs": [],
   "source": [
    "#!pip install langchain"
   ]
  },
  {
   "cell_type": "markdown",
   "id": "189e9e17-dfb0-4fd3-85b9-1fba83771941",
   "metadata": {},
   "source": [
    "## Connect with an LLM"
   ]
  },
  {
   "cell_type": "markdown",
   "id": "b21d23f4-61f5-4227-8a75-7eefde6680ee",
   "metadata": {},
   "source": [
    "If you are using the pre-loaded poetry shell, you do not need to install the following package because it is already pre-loaded for you:"
   ]
  },
  {
   "cell_type": "code",
   "execution_count": 4,
   "id": "148df8e0-361d-4ddd-8709-af48fa1648d1",
   "metadata": {},
   "outputs": [],
   "source": [
    "#!pip install langchain-openai"
   ]
  },
  {
   "cell_type": "code",
   "execution_count": 5,
   "id": "df978ec5-bfd2-4167-bd33-86bc2687d1cb",
   "metadata": {},
   "outputs": [],
   "source": [
    "from langchain_openai import ChatOpenAI\n",
    "\n",
    "chatModel35 = ChatOpenAI(model=\"gpt-3.5-turbo-0125\")\n",
    "chatModel4o = ChatOpenAI(model=\"gpt-4o\")"
   ]
  },
  {
   "cell_type": "markdown",
   "id": "cca6e5f0-3ec7-44aa-a202-bebaff0a7caf",
   "metadata": {},
   "source": [
    "## LLM with several tools"
   ]
  },
  {
   "cell_type": "code",
   "execution_count": 12,
   "id": "ea28472d-5ddb-4a56-8978-92fbcf6a0e03",
   "metadata": {},
   "outputs": [],
   "source": [
    "def multiply(a: int, b: int) -> int:\n",
    "    \"\"\"Multiply a and b.\n",
    "\n",
    "    Args:\n",
    "        a: first int\n",
    "        b: second int\n",
    "    \"\"\"\n",
    "    return a * b\n",
    "\n",
    "def add(a: int, b: int) -> int:\n",
    "    \"\"\"Adds a and b.\n",
    "\n",
    "    Args:\n",
    "        a: first int\n",
    "        b: second int\n",
    "    \"\"\"\n",
    "    return a + b\n",
    "\n",
    "def divide(a: int, b: int) -> float:\n",
    "    \"\"\"Divide a and b.\n",
    "\n",
    "    Args:\n",
    "        a: first int\n",
    "        b: second int\n",
    "    \"\"\"\n",
    "    return a / b\n",
    "\n",
    "tools = [add, multiply, divide]\n",
    "\n",
    "# For this notebook we set parallel tool calling to false\n",
    "# as math generally is done sequentially.\n",
    "# The OpenAI model defaults to parallel tool calling for efficiency.\n",
    "# You can learn more at https://python.langchain.com/docs/how_to/tool_calling_parallel/\n",
    "llm_with_tools = chatModel4o.bind_tools(tools, parallel_tool_calls=False)"
   ]
  },
  {
   "cell_type": "markdown",
   "id": "b3eeae4e-5a07-4394-b4a7-7ebc6ae9d6b9",
   "metadata": {},
   "source": [
    "## Building an app (called graph in langgraph) that decides if chat with LLM or use tool"
   ]
  },
  {
   "cell_type": "markdown",
   "id": "7e98ed3b-1eab-4f49-81ef-e41ab39f7715",
   "metadata": {},
   "source": [
    "* Here you have a graphic representation of the app we will build:"
   ]
  },
  {
   "cell_type": "markdown",
   "id": "8d732b59-098b-4159-aef0-4dc55529c951",
   "metadata": {},
   "source": [
    "![Simple graph](graph003.png)"
   ]
  },
  {
   "cell_type": "markdown",
   "id": "163227f2-8454-4b3f-909a-7368de9ae1e9",
   "metadata": {},
   "source": [
    "## Define the State schema"
   ]
  },
  {
   "cell_type": "markdown",
   "id": "28dd4214-7da2-4a79-b75c-2a27ecbca2f6",
   "metadata": {},
   "source": [
    "* For this example, we will use the same MessagesState we used in the previous exercise:"
   ]
  },
  {
   "cell_type": "code",
   "execution_count": 7,
   "id": "8e1429c4-a5af-4571-a8a8-fb80ab707e75",
   "metadata": {},
   "outputs": [],
   "source": [
    "from langgraph.graph import MessagesState\n",
    "\n",
    "class MessagesState(MessagesState):\n",
    "    # Add any keys needed beyond messages, which is pre-built \n",
    "    pass"
   ]
  },
  {
   "cell_type": "markdown",
   "id": "3047b128-1bf9-418e-88c7-c85fb318da4c",
   "metadata": {},
   "source": [
    "## Define the first Node\n",
    "* The Nodes of a graph are defined as python functions.\n",
    "* The first argument of a Node function is the state. Because of that, in this exercise each node can access the key `messages`, with `state['messages']`.\n",
    "* In this example, we will start with a node similar to the one we created in the previous exercise, **but this time with a SystemMessage**:"
   ]
  },
  {
   "cell_type": "code",
   "execution_count": 8,
   "id": "d1dc7098-5306-4fcd-9cbf-6d0d6fe6e7a1",
   "metadata": {},
   "outputs": [],
   "source": [
    "from langchain_core.messages import HumanMessage, SystemMessage\n",
    "\n",
    "# System message, system prompt\n",
    "sys_msg = SystemMessage(content=\"You are a helpful assistant tasked with performing arithmetic on a set of inputs.\")\n",
    "\n",
    "# Node\n",
    "def assistant(state: MessagesState):\n",
    "   return {\"messages\": [llm_with_tools.invoke([sys_msg] + state[\"messages\"])]}"
   ]
  },
  {
   "cell_type": "markdown",
   "id": "38e15f73-8da6-4871-b011-f1457a4a4efd",
   "metadata": {},
   "source": [
    "## Combine Nodes and Edges to build the Graph\n",
    "* First, we initialize a StateGraph with the `MessagesState` class we defined above.\n",
    "* Then, we add our nodes and edges.\n",
    "* The `START` Node is a special node that sends user input to the graph, to indicate where to start our graph.\n",
    "* **See how we are using the ToolNode LangGraph built-in component to create the tool-using node called \"tools\"**.\n",
    "    * We use ToolNode to call the tool. \n",
    "* **See how we are adding the conditional edge with the tools_condition LangGraph built-in component as our router**.\n",
    "* **The main difference between this app and the previous one is that here the tools node responds back to the assistant instead of going to the `END` Node**.\n",
    "    * This is what is called the ReAct architecture: the LLM keeps using the tools until it gets a satisfactory response.\n",
    "        * act - the LLM calls a tool.\n",
    "        * observe - the tool passes the output back to the LLM.\n",
    "        * reason - the LLM decides what to do next (call another tool or respond directly).\n",
    "* **See how we do not have `END` Node**.\n",
    "* We compile our graph to perform a few basic checks on the graph structure.\n",
    "* Finally, we visualize the graph as a [Mermaid diagram](https://github.com/mermaid-js/mermaid)."
   ]
  },
  {
   "cell_type": "code",
   "execution_count": 9,
   "id": "169e59d2-4e50-494a-aa62-47756c97a553",
   "metadata": {},
   "outputs": [
    {
     "data": {
      "image/png": "[encoded data removed]",
      "text/plain": [
       "<IPython.core.display.Image object>"
      ]
     },
     "metadata": {},
     "output_type": "display_data"
    }
   ],
   "source": [
    "from langgraph.graph import START, StateGraph\n",
    "from langgraph.prebuilt import tools_condition\n",
    "from langgraph.prebuilt import ToolNode\n",
    "from IPython.display import Image, display\n",
    "\n",
    "# Build graph\n",
    "builder = StateGraph(MessagesState)\n",
    "\n",
    "builder.add_node(\"assistant\", assistant)\n",
    "builder.add_node(\"tools\", ToolNode(tools))\n",
    "\n",
    "# Add the logic of the graph\n",
    "builder.add_edge(START, \"assistant\")\n",
    "\n",
    "builder.add_conditional_edges(\n",
    "    \"assistant\",\n",
    "    # If the latest message (result) from assistant is a tool call -> tools_condition routes to tools\n",
    "    # If the latest message (result) from assistant is a not a tool call -> tools_condition routes to END\n",
    "    tools_condition,\n",
    ")\n",
    "\n",
    "# PAY ATTENTION HERE: from the tools node, back to the assistant\n",
    "builder.add_edge(\"tools\", \"assistant\")\n",
    "\n",
    "# PAY ATTENTION: No END edge.\n",
    "\n",
    "# Compile the graph\n",
    "react_graph = builder.compile()\n",
    "\n",
    "# Visualize the graph\n",
    "display(Image(react_graph.get_graph(xray=True).draw_mermaid_png()))"
   ]
  },
  {
   "cell_type": "markdown",
   "id": "2e55d58c-e727-4927-93f1-d26c2b4dccbb",
   "metadata": {},
   "source": [
    "## Run the app\n",
    "* The compiled graph implements the runnable protocol, a standard way to execute LangChain components. Because of that, we can use `invoke` as one of the standard methods to run this app."
   ]
  },
  {
   "cell_type": "code",
   "execution_count": 10,
   "id": "38d9f6a2-ab17-4bc3-91a0-900af51b3f0b",
   "metadata": {},
   "outputs": [
    {
     "name": "stdout",
     "output_type": "stream",
     "text": [
      "================================\u001b[1m Human Message \u001b[0m=================================\n",
      "\n",
      "What was the relationship between Marilyn and JFK?\n",
      "==================================\u001b[1m Ai Message \u001b[0m==================================\n",
      "\n",
      "Marilyn Monroe and President John F. Kennedy (JFK) are often rumored to have had a romantic relationship, though concrete details about the nature and extent of their relationship remain speculative and are part of popular lore. The most famous public connection between them was Marilyn Monroe's sultry performance of \"Happy Birthday, Mr. President\" at a Democratic Party fundraiser and early birthday celebration for Kennedy in May 1962. However, both contemporaneous accounts and historical research have not conclusively proven a long-term affair, and much of the speculation is based on anecdotal evidence and hearsay.\n"
     ]
    }
   ],
   "source": [
    "messages = [HumanMessage(content=\"What was the relationship between Marilyn and JFK?\")]\n",
    "messages = react_graph.invoke({\"messages\": messages})\n",
    "\n",
    "for m in messages['messages']:\n",
    "    m.pretty_print()"
   ]
  },
  {
   "cell_type": "code",
   "execution_count": 11,
   "id": "d9bd5b31-2f9f-4154-86b8-82a008355ce0",
   "metadata": {},
   "outputs": [
    {
     "name": "stdout",
     "output_type": "stream",
     "text": [
      "================================\u001b[1m Human Message \u001b[0m=================================\n",
      "\n",
      "Add 3 and 4. Multiply the output by 2. Divide the output by 5\n",
      "==================================\u001b[1m Ai Message \u001b[0m==================================\n",
      "Tool Calls:\n",
      "  add (call_UR7Cp0pbVpRyof8Dyq4kZUHm)\n",
      " Call ID: call_UR7Cp0pbVpRyof8Dyq4kZUHm\n",
      "  Args:\n",
      "    a: 3\n",
      "    b: 4\n",
      "=================================\u001b[1m Tool Message \u001b[0m=================================\n",
      "Name: add\n",
      "\n",
      "7\n",
      "==================================\u001b[1m Ai Message \u001b[0m==================================\n",
      "Tool Calls:\n",
      "  multiply (call_OiwYtGUW13AY8CB3qY3Y3Vlt)\n",
      " Call ID: call_OiwYtGUW13AY8CB3qY3Y3Vlt\n",
      "  Args:\n",
      "    a: 7\n",
      "    b: 2\n",
      "=================================\u001b[1m Tool Message \u001b[0m=================================\n",
      "Name: multiply\n",
      "\n",
      "14\n",
      "==================================\u001b[1m Ai Message \u001b[0m==================================\n",
      "Tool Calls:\n",
      "  divide (call_pPlNCoLinv7gfbQu94bpkxnu)\n",
      " Call ID: call_pPlNCoLinv7gfbQu94bpkxnu\n",
      "  Args:\n",
      "    a: 14\n",
      "    b: 5\n",
      "=================================\u001b[1m Tool Message \u001b[0m=================================\n",
      "Name: divide\n",
      "\n",
      "2.8\n",
      "==================================\u001b[1m Ai Message \u001b[0m==================================\n",
      "\n",
      "The final result after adding 3 and 4, multiplying the result by 2, and then dividing by 5 is 2.8.\n"
     ]
    }
   ],
   "source": [
    "messages = [HumanMessage(content=\"Add 3 and 4. Multiply the output by 2. Divide the output by 5\")]\n",
    "messages = react_graph.invoke({\"messages\": messages})\n",
    "\n",
    "for m in messages['messages']:\n",
    "    m.pretty_print()"
   ]
  },
  {
   "cell_type": "markdown",
   "id": "74c89730-f3b5-4608-b380-f3e158b5bfc6",
   "metadata": {},
   "source": [
    "* **See that the previous operation performs the 3 sequential actions:**\n",
    "    * Goes from assistant to tools and Adds 3 and 4. Goes back to assistant with the result.\n",
    "    * Goes from assistant to tools and Multiplies the output by 2. Goes back to assistant with the result.\n",
    "    * Goes from assistant to tools and Divides the output by 5. Goes back to assistant with the result.\n",
    "    * Finally, it goes from assistant to End and prints the result."
   ]
  },
  {
   "cell_type": "markdown",
   "id": "dbc24f4f-d23c-4202-992d-91b0623136ae",
   "metadata": {},
   "source": [
    "## How to execute the code from Visual Studio Code\n",
    "* In Visual Studio Code, see the file 006-basic-agent.py\n",
    "* In terminal, make sure you are in the directory of the file and run:\n",
    "    * python 006-basic-agent.py"
   ]
  },
  {
   "cell_type": "code",
   "execution_count": null,
   "id": "b1af248e-6069-44b3-a2cd-a20aa3259874",
   "metadata": {},
   "outputs": [],
   "source": []
  }
 ],
 "metadata": {
  "kernelspec": {
   "display_name": "Python 3 (ipykernel)",
   "language": "python",
   "name": "python3"
  },
  "language_info": {
   "codemirror_mode": {
    "name": "ipython",
    "version": 3
   },
   "file_extension": ".py",
   "mimetype": "text/x-python",
   "name": "python",
   "nbconvert_exporter": "python",
   "pygments_lexer": "ipython3",
   "version": "3.12.5"
  }
 },
 "nbformat": 4,
 "nbformat_minor": 5
}
