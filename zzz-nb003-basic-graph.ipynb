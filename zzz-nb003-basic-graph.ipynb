{
 "cells": [
  {
   "cell_type": "markdown",
   "id": "be46161e-45e9-46d7-8214-bcbea10aff2e",
   "metadata": {},
   "source": [
    "# Basic LangGraph App\n",
    "* The goal of this exercise is to get familiar with the main components and steps of a basic LangGraph app."
   ]
  },
  {
   "cell_type": "markdown",
   "id": "079c36e6-341f-409b-98b0-e4ae680b78e6",
   "metadata": {},
   "source": [
    "## Setup"
   ]
  },
  {
   "cell_type": "markdown",
   "id": "871e0018-cba4-4959-881a-0a65093d202d",
   "metadata": {},
   "source": [
    "#### After you download the code from the github repository in your computer\n",
    "In terminal:\n",
    "* cd project_name\n",
    "* pyenv local 3.11.4\n",
    "* poetry install\n",
    "* poetry shell"
   ]
  },
  {
   "cell_type": "markdown",
   "id": "4065e336-d054-412c-8a3f-1fbec63e1bcd",
   "metadata": {},
   "source": [
    "#### To open the notebook with Jupyter Notebooks\n",
    "In terminal:\n",
    "* jupyter lab\n",
    "\n",
    "Go to the folder of notebooks and open the right notebook."
   ]
  },
  {
   "cell_type": "markdown",
   "id": "62dda8d4-80cf-4b8f-9981-94edda5e9911",
   "metadata": {},
   "source": [
    "#### To see the code in Virtual Studio Code or your editor of choice.\n",
    "* open Virtual Studio Code or your editor of choice.\n",
    "* open the project-folder\n",
    "* open the 003-basic-graph.py file"
   ]
  },
  {
   "cell_type": "markdown",
   "id": "af743328-1bc8-4b01-85fb-fcb21c6499c2",
   "metadata": {},
   "source": [
    "## Create your .env file\n",
    "* In the github repo we have included a file named .env.example\n",
    "* Rename that file to .env file and here is where you will add your confidential api keys. Remember to include:\n",
    "* OPENAI_API_KEY=your_openai_api_key\n",
    "* LANGCHAIN_TRACING_V2=true\n",
    "* LANGCHAIN_ENDPOINT=https://api.smith.langchain.com\n",
    "* LANGCHAIN_API_KEY=your_langchain_api_key\n",
    "* LANGCHAIN_PROJECT=your_project_name"
   ]
  },
  {
   "cell_type": "markdown",
   "id": "863dd299-0780-49ad-a1b7-b76e249350da",
   "metadata": {},
   "source": [
    "We will call our LangSmith project **003-basic-graph**."
   ]
  },
  {
   "cell_type": "markdown",
   "id": "40e766aa-f3e2-491f-be99-d0c6b700d47a",
   "metadata": {},
   "source": [
    "## Track operations\n",
    "From now on, we can track the operations **and the cost** of this project from LangSmith:\n",
    "* [smith.langchain.com](https://smith.langchain.com)"
   ]
  },
  {
   "cell_type": "markdown",
   "id": "4f99504a-1b8f-4360-b342-0b81ffa06aff",
   "metadata": {},
   "source": [
    "## Connect with the .env file located in the same directory of this notebook"
   ]
  },
  {
   "cell_type": "markdown",
   "id": "e39e5789-5bde-42e1-88dd-92dc8e363c24",
   "metadata": {},
   "source": [
    "If you are using the pre-loaded poetry shell, you do not need to install the following package because it is already pre-loaded for you:"
   ]
  },
  {
   "cell_type": "code",
   "execution_count": null,
   "id": "c5514113-ddca-4ae9-9de6-0b9225b18f3c",
   "metadata": {},
   "outputs": [],
   "source": [
    "#pip install python-dotenv"
   ]
  },
  {
   "cell_type": "code",
   "execution_count": 1,
   "id": "fecd39d0-e72e-4bc2-8a68-2fa4008ea365",
   "metadata": {},
   "outputs": [],
   "source": [
    "import os\n",
    "from dotenv import load_dotenv, find_dotenv\n",
    "_ = load_dotenv(find_dotenv())\n",
    "openai_api_key = os.environ[\"OPENAI_API_KEY\"]"
   ]
  },
  {
   "cell_type": "markdown",
   "id": "03f4a923-b19e-498e-9be5-e47ec4a77d80",
   "metadata": {},
   "source": [
    "#### Install LangChain"
   ]
  },
  {
   "cell_type": "markdown",
   "id": "9fef1e5c-b7e2-4a04-96c5-8f64377b8eba",
   "metadata": {},
   "source": [
    "If you are using the pre-loaded poetry shell, you do not need to install the following package because it is already pre-loaded for you:"
   ]
  },
  {
   "cell_type": "code",
   "execution_count": 3,
   "id": "c1cf94ae-6c39-4475-9c5b-4b74d8d78753",
   "metadata": {},
   "outputs": [],
   "source": [
    "#!pip install langchain"
   ]
  },
  {
   "cell_type": "markdown",
   "id": "189e9e17-dfb0-4fd3-85b9-1fba83771941",
   "metadata": {},
   "source": [
    "## Connect with an LLM"
   ]
  },
  {
   "cell_type": "markdown",
   "id": "b21d23f4-61f5-4227-8a75-7eefde6680ee",
   "metadata": {},
   "source": [
    "If you are using the pre-loaded poetry shell, you do not need to install the following package because it is already pre-loaded for you:"
   ]
  },
  {
   "cell_type": "code",
   "execution_count": 4,
   "id": "148df8e0-361d-4ddd-8709-af48fa1648d1",
   "metadata": {},
   "outputs": [],
   "source": [
    "#!pip install langchain-openai"
   ]
  },
  {
   "cell_type": "code",
   "execution_count": 2,
   "id": "df978ec5-bfd2-4167-bd33-86bc2687d1cb",
   "metadata": {},
   "outputs": [],
   "source": [
    "from langchain_openai import ChatOpenAI\n",
    "\n",
    "chatModel35 = ChatOpenAI(model=\"gpt-3.5-turbo-0125\")\n",
    "chatModel4o = ChatOpenAI(model=\"gpt-4o\")"
   ]
  },
  {
   "cell_type": "markdown",
   "id": "598a3c83-05f4-48da-a289-400da2a4940c",
   "metadata": {},
   "source": [
    "## Building a simple app (called graph in langgraph) that decides if the user will vote for Trump or Harris"
   ]
  },
  {
   "cell_type": "markdown",
   "id": "0437b47d-b809-412b-9ac7-6c0bc3d16515",
   "metadata": {},
   "source": [
    "* Here you have a graphic representation of the app we will build:"
   ]
  },
  {
   "cell_type": "markdown",
   "id": "ee6f81f0-93a4-4ea1-99b6-95283dc074f6",
   "metadata": {},
   "source": [
    "![Simple graph](graph001.png)"
   ]
  },
  {
   "cell_type": "markdown",
   "id": "20582816-6275-45ca-8cab-7f923a612cfc",
   "metadata": {},
   "source": [
    "## Define the state schema\n",
    "* The first thing we will do is to define the state of the app. \n",
    "* The state schema configures what will be in the state and with what format.\n",
    "* The schema will usually be either a TypedDict or a Pydantic model."
   ]
  },
  {
   "cell_type": "markdown",
   "id": "a4b49c19-8e03-4b21-b73b-7798cba7339a",
   "metadata": {},
   "source": [
    "* For this example, the State class will only have one key, graph_state, with a string format."
   ]
  },
  {
   "cell_type": "code",
   "execution_count": 4,
   "id": "dfc3e211-9071-4a38-b0a2-8c470ef2c4fb",
   "metadata": {},
   "outputs": [],
   "source": [
    "from typing_extensions import TypedDict\n",
    "\n",
    "class State(TypedDict):\n",
    "    graph_state: str"
   ]
  },
  {
   "cell_type": "markdown",
   "id": "5a7f8b52-d07b-47f4-bd14-95b7b2418b26",
   "metadata": {},
   "source": [
    "The line of code:\n",
    "\n",
    "```python\n",
    "from typing_extensions import TypedDict\n",
    "```\n",
    "\n",
    "is importing the `TypedDict` class from the `typing_extensions` module.\n",
    "\n",
    "#### What is `TypedDict`?\n",
    "\n",
    "- **`TypedDict`** allows you to define dictionaries with a specific structure. It enables you to specify the exact keys and the types of their associated values, making your code more explicit and type-safe.\n",
    "- For example, instead of a plain dictionary like `{\"name\": \"Alice\", \"age\": 30}`, you can define a `TypedDict` to enforce that `name` must always be a string and `age` must always be an integer.\n",
    "\n",
    "#### Why `typing_extensions`?\n",
    "\n",
    "- The `typing_extensions` module is used to provide features from Python's `typing` module that might not be available in older Python versions. If you're using a Python version where `TypedDict` is not yet included in the standard library, you can still use it via `typing_extensions`.\n",
    "\n",
    "Let’s break down this code step by step:\n",
    "\n",
    "#### Code Explanation:\n",
    "\n",
    "```python\n",
    "class State(TypedDict):\n",
    "    graph_state: str\n",
    "```\n",
    "\n",
    "- Here, a new dictionary-like structure called `State` is defined.\n",
    "- `State` inherits from `TypedDict`, which means it behaves like a dictionary, but it has specific rules about what keys and values it must have.\n",
    "\n",
    "In this case:\n",
    "- `State` must have a key named `graph_state`.\n",
    "- The value for `graph_state` must always be a string (`str`).\n",
    "\n",
    "#### How It Works:\n",
    "\n",
    "1. **Definition of `State`:**\n",
    "   - This defines a type for a dictionary that looks like this: `{\"graph_state\": <some string>}`.\n",
    "\n",
    "2. **Example Usage:**\n",
    "\n",
    "```python\n",
    "state: State = {\"graph_state\": \"active\"}  # This is valid\n",
    "```\n",
    "\n",
    "- The key `graph_state` is present, and its value is a string, so it works.\n",
    "\n",
    "```python\n",
    "state: State = {\"graph_state\": 123}  # This is invalid\n",
    "```\n",
    "\n",
    "- This would raise a type-checking error because the value `123` is not a string.\n",
    "\n",
    "#### Why Use This?\n",
    "\n",
    "- **Clarity:** Makes it clear what the structure of the dictionary should be.\n",
    "- **Type Safety:** Helps avoid bugs by catching mistakes if you use the wrong key or value type.\n",
    "- **Documentation:** Serves as a form of documentation for what the expected dictionary looks like."
   ]
  },
  {
   "cell_type": "markdown",
   "id": "edbf3855-b498-4c93-bf13-7aebf0d03322",
   "metadata": {},
   "source": [
    "## Define the Nodes of the app\n",
    "* The Nodes of this app are defined as python functions.\n",
    "* The first argument of a Node function is the state. Each node can access the key `graph_state`, with `state['graph_state']`.\n",
    "* In this exercise each node will return a new value of the state key `graph_state`. **The new value returned by each node will overwrite the prior state value**.\n",
    "    * If the graph flow is node 1 to node 2, the final state will be \" I will vote for Donald Trump\".\n",
    "    * If the graph flow is node 1 to node 3, the final state will be \" I will vote for Kamala Harris\"."
   ]
  },
  {
   "cell_type": "code",
   "execution_count": 1,
   "id": "e5ff8d02-477b-474f-9460-300ff58492e8",
   "metadata": {},
   "outputs": [],
   "source": [
    "def node_1(state):\n",
    "    print(\"---Node 1---\")\n",
    "    return {\"graph_state\": state['graph_state'] +\" I will vote for\"}\n",
    "\n",
    "def node_2(state):\n",
    "    print(\"---Node 2---\")\n",
    "    return {\"graph_state\": state['graph_state'] +\" Donald Trump\"}\n",
    "\n",
    "def node_3(state):\n",
    "    print(\"---Node 3---\")\n",
    "    return {\"graph_state\": state['graph_state'] +\" Kamala Harris\"}"
   ]
  },
  {
   "cell_type": "markdown",
   "id": "128c693a-aa5c-49a8-8962-d6ee725a4281",
   "metadata": {},
   "source": [
    "## Define the Edges that connect the Nodes\n",
    "* Normal Edges go from one node to another.\n",
    "* Conditional Edges are used when you want to optionally route between nodes. They are functions that select the next node based upon some logic."
   ]
  },
  {
   "cell_type": "markdown",
   "id": "36f3d13e-f57f-4e67-9e08-7dcde3786102",
   "metadata": {},
   "source": [
    "* In our example, to replicate the U.S. elections result we will define a function to simulate a 60% probability of voting for Donald Trump."
   ]
  },
  {
   "cell_type": "code",
   "execution_count": 6,
   "id": "655e60cb-a057-4d03-a8e4-074fcf3c35e4",
   "metadata": {},
   "outputs": [],
   "source": [
    "import random\n",
    "from typing import Literal\n",
    "\n",
    "def decide_vote(state) -> Literal[\"node_2\", \"node_3\"]:\n",
    "    \"\"\"\n",
    "    Decide on the next node to visit based on a 60/40 probability split.\n",
    "    \"\"\"\n",
    "    # Simulating a 60% probability for \"node_2\"\n",
    "    if random.random() < 0.6:  # 60% chance\n",
    "        return \"node_2\"\n",
    "    \n",
    "    # Remaining 40% chance\n",
    "    return \"node_3\""
   ]
  },
  {
   "cell_type": "markdown",
   "id": "6ae24644-afa8-4451-bf40-9ddf07059762",
   "metadata": {},
   "source": [
    "Let’s break down the code step by step:\n",
    "\n",
    "#### Code Explanation\n",
    "\n",
    "1. **Imports:**\n",
    "\n",
    "```python\n",
    "import random\n",
    "from typing import Literal\n",
    "```\n",
    "\n",
    "- `random` is a module for generating random numbers.\n",
    "- `Literal` is a type hint from `typing` that lets you specify an exact value or set of values that a function can return or accept.\n",
    "\n",
    "2. **Function Definition:**\n",
    "\n",
    "```python\n",
    "def decide_vote(state) -> Literal[\"node_2\", \"node_3\"]:\n",
    "    \"\"\"\n",
    "    Decide on the next node to visit based on a 60/40 probability split.\n",
    "    \"\"\"\n",
    "```\n",
    "\n",
    "- The function is named `decide_vote`.\n",
    "- It takes one input called `state`.\n",
    "- The function **always returns either `\"node_2\"` or `\"node_3\"`.** This is enforced by the return type `Literal[\"node_2\", \"node_3\"]`.\n",
    "\n",
    "3. **Logic:**\n",
    "\n",
    "```python\n",
    "if random.random() < 0.6:  # 60% chance\n",
    "    return \"node_2\"\n",
    "```\n",
    "\n",
    "- `random.random()` generates a random float between `0` and `1`.\n",
    "- If this random number is less than `0.6` (60% chance), the function returns `\"node_2\"`.\n",
    "\n",
    "\n",
    "```python\n",
    "return \"node_3\"  # Remaining 40% chance\n",
    "```\n",
    "\n",
    "- If the random number is not less than `0.6` (meaning it falls in the 40% chance), the function returns `\"node_3\"`.\n",
    "\n",
    "#### Example of How It Works:\n",
    "\n",
    "- Every time the function is called, it makes a decision based on random chance:\n",
    "  - **60% chance:** Returns `\"node_2\"`.\n",
    "  - **40% chance:** Returns `\"node_3\"`.\n",
    "\n",
    "#### Why Use This?\n",
    "\n",
    "1. **Decision Making:** It’s simulating a probabilistic choice, which can be useful in applications like simulations, games, or machine learning.\n",
    "2. **Type Safety:** The `Literal` return type ensures that the function will always return only `\"node_2\"` or `\"node_3\"`, making it predictable and easier to debug."
   ]
  },
  {
   "cell_type": "markdown",
   "id": "e9f8c3d3-9196-4cb3-89ba-8c7c644abc07",
   "metadata": {},
   "source": [
    "## Combine Nodes and Edges to build the app\n",
    "* First, we initialize a StateGraph with the `State` class we defined above.\n",
    "* Then, we add the nodes and edges.\n",
    "* **The `START` Node is a special node that sends user input to the graph, to indicate where to start our graph**.\n",
    "* **The `END` Node is a special node that represents a terminal node**.\n",
    "* We compile our graph to perform a few basic checks on the graph structure.\n",
    "* Finally, we visualize the graph as a [Mermaid diagram](https://github.com/mermaid-js/mermaid). Mermaid is a JavaScript-based diagramming and charting tool."
   ]
  },
  {
   "cell_type": "code",
   "execution_count": 7,
   "id": "cc26f885-2e00-40c0-a344-febfa44ad271",
   "metadata": {},
   "outputs": [
    {
     "data": {
      "image/png": "[encoded data removed]",
      "text/plain": [
       "<IPython.core.display.Image object>"
      ]
     },
     "metadata": {},
     "output_type": "display_data"
    }
   ],
   "source": [
    "from IPython.display import Image, display\n",
    "from langgraph.graph import StateGraph, START, END\n",
    "\n",
    "# Build graph\n",
    "builder = StateGraph(State)\n",
    "\n",
    "builder.add_node(\"node_1\", node_1)\n",
    "builder.add_node(\"node_2\", node_2)\n",
    "builder.add_node(\"node_3\", node_3)\n",
    "\n",
    "# Add the logic of the graph\n",
    "builder.add_edge(START, \"node_1\")\n",
    "builder.add_conditional_edges(\"node_1\", decide_vote)\n",
    "builder.add_edge(\"node_2\", END)\n",
    "builder.add_edge(\"node_3\", END)\n",
    "\n",
    "# Compile the graph\n",
    "graph = builder.compile()\n",
    "\n",
    "# Visualize the graph\n",
    "display(Image(graph.get_graph().draw_mermaid_png()))"
   ]
  },
  {
   "cell_type": "markdown",
   "id": "99f9ccf5-dff0-4aa0-8bfa-35cd1caaabf8",
   "metadata": {},
   "source": [
    "## Run the app\n",
    "* The compiled graph implements the runnable protocol, a standard way to execute LangChain components. Because of that, we can use `invoke` as one of the standard methods to run this app.\n",
    "* Our initial input is the dictionary `{\"graph_state\": \"Hi, this is Joe Biden.\"}`, which sets the initial value for the state dict.\n",
    "* When `invoke` is called:\n",
    "    * The graph starts execution from the `START` node.\n",
    "    * It progresses through the defined nodes (`node_1`, `node_2`, `node_3`) in order.\n",
    "    * The conditional edge will traverse from node `1` to node `2` or `3` using a 60/40 decision rule.\n",
    "    * Each node function receives the current state and returns a new value, which overrides the graph state.\n",
    "    * The execution continues until it reaches the `END` node."
   ]
  },
  {
   "cell_type": "code",
   "execution_count": 10,
   "id": "cf4397bb-6539-4abb-8aef-7d90e34b49a4",
   "metadata": {},
   "outputs": [
    {
     "name": "stdout",
     "output_type": "stream",
     "text": [
      "---Node 1---\n",
      "---Node 2---\n"
     ]
    },
    {
     "data": {
      "text/plain": [
       "{'graph_state': 'Hi, this is Joe Biden. I will vote for Donald Trump'}"
      ]
     },
     "execution_count": 10,
     "metadata": {},
     "output_type": "execute_result"
    }
   ],
   "source": [
    "graph.invoke({\"graph_state\" : \"Hi, this is Joe Biden.\"})"
   ]
  },
  {
   "cell_type": "markdown",
   "id": "950ff02a-64ab-402b-9da4-98f75de6aab3",
   "metadata": {},
   "source": [
    "* As you see, in our example the conditional router went to Node 2, so in this case Joe Biden would vote for Donald Trump!"
   ]
  },
  {
   "cell_type": "markdown",
   "id": "c3b7512a-1fa2-4594-b175-a0f840b479a9",
   "metadata": {},
   "source": [
    "![Simple graph](graph001.png)"
   ]
  },
  {
   "cell_type": "markdown",
   "id": "dbc24f4f-d23c-4202-992d-91b0623136ae",
   "metadata": {},
   "source": [
    "## How to execute the code from Visual Studio Code\n",
    "* In Visual Studio Code, see the file 003-basic-langgraph.py\n",
    "* In terminal, make sure you are in the directory of the file and run:\n",
    "    * python 003-basic-graph.py"
   ]
  },
  {
   "cell_type": "code",
   "execution_count": null,
   "id": "b1af248e-6069-44b3-a2cd-a20aa3259874",
   "metadata": {},
   "outputs": [],
   "source": []
  }
 ],
 "metadata": {
  "kernelspec": {
   "display_name": "Python 3 (ipykernel)",
   "language": "python",
   "name": "python3"
  },
  "language_info": {
   "codemirror_mode": {
    "name": "ipython",
    "version": 3
   },
   "file_extension": ".py",
   "mimetype": "text/x-python",
   "name": "python",
   "nbconvert_exporter": "python",
   "pygments_lexer": "ipython3",
   "version": "3.12.5"
  }
 },
 "nbformat": 4,
 "nbformat_minor": 5
}
