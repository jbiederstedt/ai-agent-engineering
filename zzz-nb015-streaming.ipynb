{
 "cells": [
  {
   "cell_type": "markdown",
   "id": "be46161e-45e9-46d7-8214-bcbea10aff2e",
   "metadata": {},
   "source": [
    "# From Invoke to Stream\n",
    "* Streaming provides several ways to visualize the output of a LangGraph app."
   ]
  },
  {
   "cell_type": "markdown",
   "id": "655070b6-3dff-433c-8a26-98916abd2a3e",
   "metadata": {},
   "source": [
    "## Invoke vs. Stream\n",
    "\n",
    "In LangGraph, the difference between `graph.invoke` and `graph.stream` lies in how they handle the **flow of execution** and **results** when working with nodes in a computational graph.\n",
    "\n",
    "#### 1. **`graph.invoke`**:\n",
    "   - **Purpose**: Executes the graph **all at once** and returns the **final result**.\n",
    "   - **Behavior**:\n",
    "     - It runs all the necessary nodes to compute the output.\n",
    "     - The computation is **synchronous**, meaning you wait until the graph completes its entire process.\n",
    "   - **Use Case**: When you need the **final output** of a graph and do not care about intermediate steps or streaming.\n",
    "\n",
    "   **Example**: \n",
    "   If you have a graph that takes input data, processes it through several nodes, and produces a summary, `graph.invoke` will:\n",
    "     - Execute the entire graph.\n",
    "     - Return the final summary as a single result.\n",
    "\n",
    "\n",
    "#### 2. **`graph.stream`**:\n",
    "   - **Purpose**: Executes the graph **incrementally**, providing intermediate outputs or updates as the graph processes.\n",
    "   - **Behavior**:\n",
    "     - It allows you to observe the **output of nodes as they complete**, rather than waiting for the whole graph to finish.\n",
    "     - Ideal for **real-time** or **progressive updates**.\n",
    "   - **Use Case**: When you want to monitor or act on **intermediate results** as they are produced.\n",
    "\n",
    "   **Example**: \n",
    "   If the graph is analyzing data in chunks, `graph.stream` will:\n",
    "     - Provide you with intermediate outputs for each chunk as they are processed.\n",
    "     - Let you handle or display results progressively, without waiting for the entire process to finish.\n",
    "\n",
    "\n",
    "#### **Summary**:\n",
    "- **`graph.invoke`**: Think of it as \"Run the entire process and give me the final result.\"\n",
    "- **`graph.stream`**: Think of it as \"Run the process step-by-step and let me see results as they happen.\"\n",
    "\n",
    "Which one you choose depends on whether you need the entire result at once (`invoke`) or prefer to receive updates during the process (`stream`)."
   ]
  },
  {
   "cell_type": "markdown",
   "id": "d8965fdc-2ffa-41ce-8e7c-ccd733472053",
   "metadata": {},
   "source": [
    "## The importance of Stream in LangGraph: a few hints\n",
    "You can grasp the importance of .stream in LangGraph by taking a look at the following concepts:\n",
    "\n",
    "#### **1. What is a step in LangGraph?**\n",
    "\n",
    "- A **step** is like a moment in the app's execution where some work is done.\n",
    "- Usually, each **node** in the graph represents a separate step because it performs a task.\n",
    "- However, if multiple nodes are set up to run **at the same time (in parallel)**, they all belong to the **same step** because they execute together.\n",
    "- **Key note**: The LangGraph team sometimes uses the terms **\"step\"** and **\"checkpoint\"** interchangeably, so consider them as meaning the same thing.\n",
    "\n",
    "#### **2. How can we see what is in the state of an app in LangGraph?**\n",
    "\n",
    "- The **state** is like a snapshot of everything the app knows or has done up to a certain step.\n",
    "  - **`graph.get_state()`**:\n",
    "    - Gives you the **current state** (what’s happening right now or what just finished).\n",
    "    - It shows what the app knows at the **latest step**.\n",
    "  - **`graph.get_state_history()`**:\n",
    "    - Provides a **list of all past states**.\n",
    "    - This is like a timeline that shows how the app progressed through each step.\n",
    "\n",
    "#### **3. How can we execute an app starting from different steps in LangGraph?**\n",
    "\n",
    "- You can control where the app starts processing by specifying the **step**.\n",
    "  - **`graph.stream(None, {thread_id})`**:\n",
    "    - Starts the app from the **most recent step** (the latest state).\n",
    "    - Useful if you just want to continue from where the app left off.\n",
    "  - **`graph.stream(None, {particular_step, thread_id})`**:\n",
    "    - Starts the app from a **specific step** you choose.\n",
    "    - Useful if you want to retry or re-execute from an earlier point in the graph’s timeline.\n",
    "\n",
    "#### **Analogy**:\n",
    "\n",
    "Imagine you're reading a book:\n",
    "- A **step** is like a chapter in the book.\n",
    "  - Most chapters (nodes) are read one at a time, but some chapters (parallel nodes) are read simultaneously.\n",
    "- **`graph.get_state()`**: Tells you the current chapter you’re reading.\n",
    "- **`graph.get_state_history()`**: Gives you a summary of all the chapters you've read so far.\n",
    "- **`graph.stream(None, {thread_id})`**: Continues reading from the last chapter.\n",
    "- **`graph.stream(None, {particular_step, thread_id})`**: Lets you jump back and reread a specific chapter before continuing."
   ]
  },
  {
   "cell_type": "markdown",
   "id": "e20f8c0d-8de0-4777-b235-edd7589973c8",
   "metadata": {},
   "source": [
    "## Setup"
   ]
  },
  {
   "cell_type": "markdown",
   "id": "871e0018-cba4-4959-881a-0a65093d202d",
   "metadata": {},
   "source": [
    "#### After you download the code from the github repository in your computer\n",
    "In terminal:\n",
    "* cd project_name\n",
    "* pyenv local 3.11.4\n",
    "* poetry install\n",
    "* poetry shell"
   ]
  },
  {
   "cell_type": "markdown",
   "id": "4065e336-d054-412c-8a3f-1fbec63e1bcd",
   "metadata": {},
   "source": [
    "#### To open the notebook with Jupyter Notebooks\n",
    "In terminal:\n",
    "* jupyter lab\n",
    "\n",
    "Go to the folder of notebooks and open the right notebook."
   ]
  },
  {
   "cell_type": "markdown",
   "id": "62dda8d4-80cf-4b8f-9981-94edda5e9911",
   "metadata": {},
   "source": [
    "#### To see the code in Virtual Studio Code or your editor of choice.\n",
    "* open Virtual Studio Code or your editor of choice.\n",
    "* open the project-folder\n",
    "* open the 015-streaming.py file"
   ]
  },
  {
   "cell_type": "markdown",
   "id": "af743328-1bc8-4b01-85fb-fcb21c6499c2",
   "metadata": {},
   "source": [
    "## Create your .env file\n",
    "* In the github repo we have included a file named .env.example\n",
    "* Rename that file to .env file and here is where you will add your confidential api keys. Remember to include:\n",
    "* OPENAI_API_KEY=your_openai_api_key\n",
    "* LANGCHAIN_TRACING_V2=true\n",
    "* LANGCHAIN_ENDPOINT=https://api.smith.langchain.com\n",
    "* LANGCHAIN_API_KEY=your_langchain_api_key\n",
    "* LANGCHAIN_PROJECT=your_project_name"
   ]
  },
  {
   "cell_type": "markdown",
   "id": "40e766aa-f3e2-491f-be99-d0c6b700d47a",
   "metadata": {},
   "source": [
    "## Track operations\n",
    "From now on, we can track the operations **and the cost** of this project from LangSmith:\n",
    "* [smith.langchain.com](https://smith.langchain.com)"
   ]
  },
  {
   "cell_type": "markdown",
   "id": "4f99504a-1b8f-4360-b342-0b81ffa06aff",
   "metadata": {},
   "source": [
    "## Connect with the .env file located in the same directory of this notebook"
   ]
  },
  {
   "cell_type": "markdown",
   "id": "e39e5789-5bde-42e1-88dd-92dc8e363c24",
   "metadata": {},
   "source": [
    "If you are using the pre-loaded poetry shell, you do not need to install the following package because it is already pre-loaded for you:"
   ]
  },
  {
   "cell_type": "code",
   "execution_count": 1,
   "id": "c5514113-ddca-4ae9-9de6-0b9225b18f3c",
   "metadata": {},
   "outputs": [],
   "source": [
    "#pip install python-dotenv"
   ]
  },
  {
   "cell_type": "code",
   "execution_count": 2,
   "id": "fecd39d0-e72e-4bc2-8a68-2fa4008ea365",
   "metadata": {},
   "outputs": [],
   "source": [
    "import os\n",
    "from dotenv import load_dotenv, find_dotenv\n",
    "_ = load_dotenv(find_dotenv())\n",
    "openai_api_key = os.environ[\"OPENAI_API_KEY\"]"
   ]
  },
  {
   "cell_type": "markdown",
   "id": "03f4a923-b19e-498e-9be5-e47ec4a77d80",
   "metadata": {},
   "source": [
    "#### Install LangChain"
   ]
  },
  {
   "cell_type": "markdown",
   "id": "9fef1e5c-b7e2-4a04-96c5-8f64377b8eba",
   "metadata": {},
   "source": [
    "If you are using the pre-loaded poetry shell, you do not need to install the following package because it is already pre-loaded for you:"
   ]
  },
  {
   "cell_type": "code",
   "execution_count": 3,
   "id": "c1cf94ae-6c39-4475-9c5b-4b74d8d78753",
   "metadata": {},
   "outputs": [],
   "source": [
    "#!pip install langchain"
   ]
  },
  {
   "cell_type": "markdown",
   "id": "189e9e17-dfb0-4fd3-85b9-1fba83771941",
   "metadata": {},
   "source": [
    "## Connect with an LLM"
   ]
  },
  {
   "cell_type": "markdown",
   "id": "b21d23f4-61f5-4227-8a75-7eefde6680ee",
   "metadata": {},
   "source": [
    "If you are using the pre-loaded poetry shell, you do not need to install the following package because it is already pre-loaded for you:"
   ]
  },
  {
   "cell_type": "code",
   "execution_count": 4,
   "id": "148df8e0-361d-4ddd-8709-af48fa1648d1",
   "metadata": {},
   "outputs": [],
   "source": [
    "#!pip install langchain-openai"
   ]
  },
  {
   "cell_type": "code",
   "execution_count": 5,
   "id": "df978ec5-bfd2-4167-bd33-86bc2687d1cb",
   "metadata": {},
   "outputs": [],
   "source": [
    "from langchain_openai import ChatOpenAI\n",
    "\n",
    "chatModel35 = ChatOpenAI(model=\"gpt-3.5-turbo-0125\")\n",
    "chatModel4o = ChatOpenAI(model=\"gpt-4o\")"
   ]
  },
  {
   "cell_type": "markdown",
   "id": "8e246cc2-9e9a-422d-bafe-da838f53d507",
   "metadata": {},
   "source": [
    "## Streaming\n",
    "* Let's see various ways to stream outputs from a LangGraph app.\n",
    "* We will start by reusing the logic of our previous app.\n",
    "* **Note that the LangGraph team includes RunnableConfig with call_model to enable token-wise streaming. This is only needed with python < 3.11.**"
   ]
  },
  {
   "cell_type": "code",
   "execution_count": 6,
   "id": "905b95f8-cecf-495b-bf62-ded9734f6dc3",
   "metadata": {},
   "outputs": [
    {
     "data": {
      "image/png": "[encoded data removed]",
      "text/plain": [
       "<IPython.core.display.Image object>"
      ]
     },
     "metadata": {},
     "output_type": "display_data"
    }
   ],
   "source": [
    "from IPython.display import Image, display\n",
    "\n",
    "from langchain_openai import ChatOpenAI\n",
    "from langchain_core.messages import SystemMessage, HumanMessage, RemoveMessage\n",
    "from langchain_core.runnables import RunnableConfig\n",
    "\n",
    "from langgraph.checkpoint.memory import MemorySaver\n",
    "from langgraph.graph import StateGraph, START, END\n",
    "from langgraph.graph import MessagesState\n",
    "\n",
    "# LLM\n",
    "model = ChatOpenAI(model=\"gpt-4o\", temperature=0) \n",
    "\n",
    "# State \n",
    "class State(MessagesState):\n",
    "    summary: str\n",
    "\n",
    "# Define the logic to call the model\n",
    "def call_model(state: State, config: RunnableConfig):\n",
    "    \n",
    "    # Get summary if it exists\n",
    "    summary = state.get(\"summary\", \"\")\n",
    "\n",
    "    # If there is summary, then we add it\n",
    "    if summary:\n",
    "        \n",
    "        # Add summary to system message\n",
    "        system_message = f\"Summary of conversation earlier: {summary}\"\n",
    "\n",
    "        # Append summary to any newer messages\n",
    "        messages = [SystemMessage(content=system_message)] + state[\"messages\"]\n",
    "    \n",
    "    else:\n",
    "        messages = state[\"messages\"]\n",
    "    \n",
    "    response = model.invoke(messages, config)\n",
    "    return {\"messages\": response}\n",
    "\n",
    "def summarize_conversation(state: State):\n",
    "    \n",
    "    # First, we get any existing summary\n",
    "    summary = state.get(\"summary\", \"\")\n",
    "\n",
    "    # Create our summarization prompt \n",
    "    if summary:\n",
    "        \n",
    "        # A summary already exists\n",
    "        summary_message = (\n",
    "            f\"This is summary of the conversation to date: {summary}\\n\\n\"\n",
    "            \"Extend the summary by taking into account the new messages above:\"\n",
    "        )\n",
    "        \n",
    "    else:\n",
    "        summary_message = \"Create a summary of the conversation above:\"\n",
    "\n",
    "    # Add prompt to our history\n",
    "    messages = state[\"messages\"] + [HumanMessage(content=summary_message)]\n",
    "    response = model.invoke(messages)\n",
    "    \n",
    "    # Delete all but the 2 most recent messages\n",
    "    delete_messages = [RemoveMessage(id=m.id) for m in state[\"messages\"][:-2]]\n",
    "    return {\"summary\": response.content, \"messages\": delete_messages}\n",
    "\n",
    "# Determine whether to end or summarize the conversation\n",
    "def should_continue(state: State):\n",
    "    \n",
    "    \"\"\"Return the next node to execute.\"\"\"\n",
    "    \n",
    "    messages = state[\"messages\"]\n",
    "    \n",
    "    # If there are more than six messages, then we summarize the conversation\n",
    "    if len(messages) > 6:\n",
    "        return \"summarize_conversation\"\n",
    "    \n",
    "    # Otherwise we can just end\n",
    "    return END\n",
    "\n",
    "# Define a new graph\n",
    "workflow = StateGraph(State)\n",
    "workflow.add_node(\"conversation\", call_model)\n",
    "workflow.add_node(summarize_conversation)\n",
    "\n",
    "# Set the entrypoint as conversation\n",
    "workflow.add_edge(START, \"conversation\")\n",
    "workflow.add_conditional_edges(\"conversation\", should_continue)\n",
    "workflow.add_edge(\"summarize_conversation\", END)\n",
    "\n",
    "# Compile\n",
    "memory = MemorySaver()\n",
    "graph = workflow.compile(checkpointer=memory)\n",
    "display(Image(graph.get_graph().draw_mermaid_png()))"
   ]
  },
  {
   "cell_type": "markdown",
   "id": "f221089a-4f19-4b84-9030-26e332cae78b",
   "metadata": {},
   "source": [
    "## LangGraph supports different streaming modes for graph state\n",
    "In LangGraph, when using `stream_mode`, the option defines **what kind of information** you receive while the graph is running. Here's the difference between `\"updates\"` and `\"values\"`:\n",
    "\n",
    "#### **1. `stream_mode=\"updates\"`**\n",
    "- **What it does**: Sends updates about the **state of the graph**.\n",
    "- **What you get**:\n",
    "  - Notifications when nodes are **starting**, **in progress**, or **completed**.\n",
    "  - It’s like getting a progress report about **what is happening** in the graph.\n",
    "- **Use Case**:\n",
    "  - Use this if you want to monitor the graph's activity or **debug** its execution.\n",
    "  - Example: \"Node A has started processing,\" \"Node B has finished.\"\n",
    "\n",
    "#### **2. `stream_mode=\"values\"`**\n",
    "- **What it does**: Sends the **actual outputs** of the nodes as they are computed.\n",
    "- **What you get**:\n",
    "  - The **data or results** produced by the nodes as they finish their work.\n",
    "  - It’s like receiving the intermediate or final **answers** the graph is producing.\n",
    "- **Use Case**:\n",
    "  - Use this if you need the **results** from the nodes as soon as they are available.\n",
    "  - Example: \"Node A produced value X,\" \"Node B produced value Y.\"\n",
    "\n",
    "#### **Key Difference**:\n",
    "- `\"updates\"`: Focuses on **what the graph is doing** (progress updates).\n",
    "- `\"values\"`: Focuses on **what the graph is producing** (data outputs).\n",
    "\n",
    "#### **Simple Analogy**:\n",
    "Imagine you’re baking a cake:\n",
    "- **`stream_mode=\"updates\"`**: You get messages like, \"The oven is preheating,\" \"The batter is in the oven,\" \"The cake is done.\"\n",
    "- **`stream_mode=\"values\"`**: You get tastes of the batter, frosting, and cake as they are made, showing the **results** of each step.\n",
    "\n",
    "Choose `\"updates\"` to track **activity** and `\"values\"` to track **results**."
   ]
  },
  {
   "cell_type": "markdown",
   "id": "dd0be4d6-c289-43e1-abaa-5b1b4b6383af",
   "metadata": {},
   "source": [
    "## You will understand it easier looking at the following image\n",
    "* stream_mode=\"updates\": This streams only the updates to the state after each node is called.\n",
    "* stream_mode=\"values\": This streams the full state after each node is called."
   ]
  },
  {
   "cell_type": "markdown",
   "id": "118ebfa3-8ee2-4912-9a82-ccb634b44ef9",
   "metadata": {},
   "source": [
    "![Simple graph](graph004.png)"
   ]
  },
  {
   "cell_type": "markdown",
   "id": "4404a7a2-c410-42c7-9d38-915830d063db",
   "metadata": {},
   "source": [
    "## Differences between the \"values\" and \"updates\" modes in LangGraph Streaming\n",
    "\n",
    "LangGraph provides two main modes for streaming outputs during a graph run: **\"values\"** and **\"updates\"**. These modes differ in how they handle and deliver state information after each step of the graph. Here's a simplified explanation:\n",
    "\n",
    "#### **1. The \"values\" Mode**  \n",
    "- **What it does:**  \n",
    "  - Streams the **entire state** of the graph **after each step** is completed.  \n",
    "  - The state reflects **all updates** made up to that point, providing a **snapshot** of the graph's progress.  \n",
    "\n",
    "- **Key Characteristic:**  \n",
    "  - You get the **full picture** of the current state, including any unchanged values carried forward.  \n",
    "\n",
    "- **Use Case Examples:**  \n",
    "  1. **Progress Tracking:**  \n",
    "     - Monitor how the overall state evolves after each step.  \n",
    "  2. **Debugging and Logging:**  \n",
    "     - Useful for reviewing the entire context if something goes wrong.  \n",
    "  3. **Final State Validation:**  \n",
    "     - Ensures you can verify the full data structure after any step to catch unexpected changes.  \n",
    "\n",
    "#### **2. The \"updates\" Mode**  \n",
    "- **What it does:**  \n",
    "  - Streams **only the changes (updates)** made to the state during a step.  \n",
    "  - If multiple updates occur in the same step (e.g., multiple nodes are executed), each update is streamed **individually**.  \n",
    "\n",
    "- **Key Characteristic:**  \n",
    "  - Focuses on **just the changes** made, rather than the full state.  \n",
    "\n",
    "- **Use Case Examples:**  \n",
    "  1. **Incremental Feedback:**  \n",
    "     - Ideal for real-time systems where you need **partial results** as soon as they're available (e.g., chatbots).  \n",
    "  2. **Efficiency for Large States:**  \n",
    "     - Avoids resending unchanged parts of the state, making it **faster and lighter** for large graphs.  \n",
    "  3. **Interactive Applications:**  \n",
    "     - Great for applications requiring **continuous updates**, such as form filling or dynamic visualizations.  \n",
    "\n",
    "#### **Summary Table**\n",
    "\n",
    "| Feature       | \"values\" Mode                             | \"updates\" Mode                           |\n",
    "|---------------|-------------------------------------------|------------------------------------------|\n",
    "| **Streams**   | Full state after each step                | Only changes (updates) after each step   |\n",
    "| **Granularity**| High-level (full snapshot)               | Low-level (incremental updates)         |\n",
    "| **Best for**  | Debugging, progress tracking, final checks| Real-time feedback, interactive apps, efficiency |\n",
    "\n",
    "Both modes are designed to handle different needs depending on whether you prefer **complete snapshots** or **incremental updates**."
   ]
  },
  {
   "cell_type": "markdown",
   "id": "42329883-a146-4fb7-b4c7-087ad5bcc3c3",
   "metadata": {},
   "source": [
    "## Streaming only the updates to the state with stream_mode=\"updates\""
   ]
  },
  {
   "cell_type": "code",
   "execution_count": 7,
   "id": "5c8f220f-2a40-4cf8-9173-1e54fc257e14",
   "metadata": {},
   "outputs": [
    {
     "name": "stdout",
     "output_type": "stream",
     "text": [
      "{'conversation': {'messages': AIMessage(content='Hello, Julio! How can I assist you today?', additional_kwargs={'refusal': None}, response_metadata={'token_usage': {'completion_tokens': 12, 'prompt_tokens': 11, 'total_tokens': 23, 'completion_tokens_details': {'accepted_prediction_tokens': 0, 'audio_tokens': 0, 'reasoning_tokens': 0, 'rejected_prediction_tokens': 0}, 'prompt_tokens_details': {'audio_tokens': 0, 'cached_tokens': 0}}, 'model_name': 'gpt-4o-2024-08-06', 'system_fingerprint': 'fp_5f20662549', 'finish_reason': 'stop', 'logprobs': None}, id='run-7e96d60d-9376-4faa-8d62-c278a6af91ac-0', usage_metadata={'input_tokens': 11, 'output_tokens': 12, 'total_tokens': 23, 'input_token_details': {'audio': 0, 'cache_read': 0}, 'output_token_details': {'audio': 0, 'reasoning': 0}})}}\n"
     ]
    }
   ],
   "source": [
    "# Create a thread\n",
    "config = {\"configurable\": {\"thread_id\": \"1\"}}\n",
    "\n",
    "# Start conversation\n",
    "for chunk in graph.stream(\n",
    "    {\"messages\": [HumanMessage(content=\"Hi! I'm Julio\")]}, \n",
    "    config, \n",
    "    stream_mode=\"updates\"):\n",
    "    print(chunk)"
   ]
  },
  {
   "cell_type": "markdown",
   "id": "86376936-bdd7-4bed-9f30-59ff64ff4f32",
   "metadata": {},
   "source": [
    "* In the previous code, each chunk is a python dictionary with the updated state for each node.\n",
    "* Let' now print the conversation:"
   ]
  },
  {
   "cell_type": "code",
   "execution_count": 8,
   "id": "0c027525-bfe0-4bf6-8a8e-b4eb490ed930",
   "metadata": {},
   "outputs": [
    {
     "name": "stdout",
     "output_type": "stream",
     "text": [
      "==================================\u001b[1m Ai Message \u001b[0m==================================\n",
      "\n",
      "Hi Julio! How can I help you today?\n"
     ]
    }
   ],
   "source": [
    "# Start conversation\n",
    "for chunk in graph.stream(\n",
    "    {\"messages\": [HumanMessage(content=\"Hi! I'm Julio\")]}, \n",
    "    config, \n",
    "    stream_mode=\"updates\"):\n",
    "    chunk['conversation'][\"messages\"].pretty_print()"
   ]
  },
  {
   "cell_type": "markdown",
   "id": "cd70fc4d-ecf4-4a2d-a2f6-8ab0ee165579",
   "metadata": {},
   "source": [
    "* As you can see, it **streams only the updates to the state** after each node is called."
   ]
  },
  {
   "cell_type": "markdown",
   "id": "91f722d8-7e6d-44f4-a7e2-e69b2c205b54",
   "metadata": {},
   "source": [
    "## Streaming the full state with stream_mode=\"values\""
   ]
  },
  {
   "cell_type": "code",
   "execution_count": 9,
   "id": "640b6168-a99b-4d4c-ad30-5157e6dcd32f",
   "metadata": {},
   "outputs": [
    {
     "name": "stdout",
     "output_type": "stream",
     "text": [
      "================================\u001b[1m Human Message \u001b[0m=================================\n",
      "\n",
      "Hi! I'm Julio\n",
      "---------------------------------------------------------------------------\n",
      "================================\u001b[1m Human Message \u001b[0m=================================\n",
      "\n",
      "Hi! I'm Julio\n",
      "==================================\u001b[1m Ai Message \u001b[0m==================================\n",
      "\n",
      "Hello, Julio! How can I assist you today?\n",
      "---------------------------------------------------------------------------\n"
     ]
    }
   ],
   "source": [
    "# Start conversation, again\n",
    "config = {\"configurable\": {\"thread_id\": \"2\"}}\n",
    "\n",
    "# Start conversation\n",
    "input_message = HumanMessage(content=\"Hi! I'm Julio\")\n",
    "\n",
    "for event in graph.stream(\n",
    "    {\"messages\": [input_message]}, \n",
    "    config, \n",
    "    stream_mode=\"values\"):\n",
    "    for m in event['messages']:\n",
    "        m.pretty_print()\n",
    "    print(\"---\"*25)"
   ]
  },
  {
   "cell_type": "markdown",
   "id": "0110fb04-7166-41e0-91cf-8642a7e2ead8",
   "metadata": {},
   "source": [
    "* As you can see, **now it streams the full state** after each node is called."
   ]
  },
  {
   "cell_type": "markdown",
   "id": "4118cb8a-0da2-4156-8c7d-ab77892fd271",
   "metadata": {},
   "source": [
    "## Other possibilities of streaming\n",
    "* You could also stream other component of the output like the tokens using the .astream_events method.\n",
    "* See the [full guide on streaming](https://langchain-ai.github.io/langgraph/concepts/streaming/) for more info."
   ]
  },
  {
   "cell_type": "markdown",
   "id": "dbc24f4f-d23c-4202-992d-91b0623136ae",
   "metadata": {},
   "source": [
    "## How to execute the code from Visual Studio Code\n",
    "* In Visual Studio Code, see the file 015-streaming.py\n",
    "* In terminal, make sure you are in the directory of the file and run:\n",
    "    * python 015-streaming.py"
   ]
  },
  {
   "cell_type": "code",
   "execution_count": null,
   "id": "b1af248e-6069-44b3-a2cd-a20aa3259874",
   "metadata": {},
   "outputs": [],
   "source": []
  }
 ],
 "metadata": {
  "kernelspec": {
   "display_name": "Python 3 (ipykernel)",
   "language": "python",
   "name": "python3"
  },
  "language_info": {
   "codemirror_mode": {
    "name": "ipython",
    "version": 3
   },
   "file_extension": ".py",
   "mimetype": "text/x-python",
   "name": "python",
   "nbconvert_exporter": "python",
   "pygments_lexer": "ipython3",
   "version": "3.12.5"
  }
 },
 "nbformat": 4,
 "nbformat_minor": 5
}
