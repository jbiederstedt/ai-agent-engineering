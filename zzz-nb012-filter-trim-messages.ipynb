{
 "cells": [
  {
   "cell_type": "markdown",
   "id": "be46161e-45e9-46d7-8214-bcbea10aff2e",
   "metadata": {},
   "source": [
    "# Building a chatbot app in LangGraph: filtering and trimming messages"
   ]
  },
  {
   "cell_type": "markdown",
   "id": "e56d7a74-68fe-46cf-a262-56c3b0ed8f2d",
   "metadata": {},
   "source": [
    "## Setup"
   ]
  },
  {
   "cell_type": "markdown",
   "id": "871e0018-cba4-4959-881a-0a65093d202d",
   "metadata": {},
   "source": [
    "#### After you download the code from the github repository in your computer\n",
    "In terminal:\n",
    "* cd project_name\n",
    "* pyenv local 3.11.4\n",
    "* poetry install\n",
    "* poetry shell"
   ]
  },
  {
   "cell_type": "markdown",
   "id": "4065e336-d054-412c-8a3f-1fbec63e1bcd",
   "metadata": {},
   "source": [
    "#### To open the notebook with Jupyter Notebooks\n",
    "In terminal:\n",
    "* jupyter lab\n",
    "\n",
    "Go to the folder of notebooks and open the right notebook."
   ]
  },
  {
   "cell_type": "markdown",
   "id": "62dda8d4-80cf-4b8f-9981-94edda5e9911",
   "metadata": {},
   "source": [
    "#### To see the code in Virtual Studio Code or your editor of choice.\n",
    "* open Virtual Studio Code or your editor of choice.\n",
    "* open the project-folder\n",
    "* open the 012-filter-trim-messages.py file"
   ]
  },
  {
   "cell_type": "markdown",
   "id": "af743328-1bc8-4b01-85fb-fcb21c6499c2",
   "metadata": {},
   "source": [
    "## Create your .env file\n",
    "* In the github repo we have included a file named .env.example\n",
    "* Rename that file to .env file and here is where you will add your confidential api keys. Remember to include:\n",
    "* OPENAI_API_KEY=your_openai_api_key\n",
    "* LANGCHAIN_TRACING_V2=true\n",
    "* LANGCHAIN_ENDPOINT=https://api.smith.langchain.com\n",
    "* LANGCHAIN_API_KEY=your_langchain_api_key\n",
    "* LANGCHAIN_PROJECT=your_project_name"
   ]
  },
  {
   "cell_type": "markdown",
   "id": "40e766aa-f3e2-491f-be99-d0c6b700d47a",
   "metadata": {},
   "source": [
    "## Track operations\n",
    "From now on, we can track the operations **and the cost** of this project from LangSmith:\n",
    "* [smith.langchain.com](https://smith.langchain.com)"
   ]
  },
  {
   "cell_type": "markdown",
   "id": "4f99504a-1b8f-4360-b342-0b81ffa06aff",
   "metadata": {},
   "source": [
    "## Connect with the .env file located in the same directory of this notebook"
   ]
  },
  {
   "cell_type": "markdown",
   "id": "e39e5789-5bde-42e1-88dd-92dc8e363c24",
   "metadata": {},
   "source": [
    "If you are using the pre-loaded poetry shell, you do not need to install the following package because it is already pre-loaded for you:"
   ]
  },
  {
   "cell_type": "code",
   "execution_count": 1,
   "id": "c5514113-ddca-4ae9-9de6-0b9225b18f3c",
   "metadata": {},
   "outputs": [],
   "source": [
    "#pip install python-dotenv"
   ]
  },
  {
   "cell_type": "code",
   "execution_count": 2,
   "id": "fecd39d0-e72e-4bc2-8a68-2fa4008ea365",
   "metadata": {},
   "outputs": [],
   "source": [
    "import os\n",
    "from dotenv import load_dotenv, find_dotenv\n",
    "_ = load_dotenv(find_dotenv())\n",
    "openai_api_key = os.environ[\"OPENAI_API_KEY\"]"
   ]
  },
  {
   "cell_type": "markdown",
   "id": "03f4a923-b19e-498e-9be5-e47ec4a77d80",
   "metadata": {},
   "source": [
    "#### Install LangChain"
   ]
  },
  {
   "cell_type": "markdown",
   "id": "9fef1e5c-b7e2-4a04-96c5-8f64377b8eba",
   "metadata": {},
   "source": [
    "If you are using the pre-loaded poetry shell, you do not need to install the following package because it is already pre-loaded for you:"
   ]
  },
  {
   "cell_type": "code",
   "execution_count": 3,
   "id": "c1cf94ae-6c39-4475-9c5b-4b74d8d78753",
   "metadata": {},
   "outputs": [],
   "source": [
    "#!pip install langchain"
   ]
  },
  {
   "cell_type": "markdown",
   "id": "189e9e17-dfb0-4fd3-85b9-1fba83771941",
   "metadata": {},
   "source": [
    "## Connect with an LLM"
   ]
  },
  {
   "cell_type": "markdown",
   "id": "b21d23f4-61f5-4227-8a75-7eefde6680ee",
   "metadata": {},
   "source": [
    "If you are using the pre-loaded poetry shell, you do not need to install the following package because it is already pre-loaded for you:"
   ]
  },
  {
   "cell_type": "code",
   "execution_count": 4,
   "id": "148df8e0-361d-4ddd-8709-af48fa1648d1",
   "metadata": {},
   "outputs": [],
   "source": [
    "#!pip install langchain-openai"
   ]
  },
  {
   "cell_type": "code",
   "execution_count": 5,
   "id": "df978ec5-bfd2-4167-bd33-86bc2687d1cb",
   "metadata": {},
   "outputs": [],
   "source": [
    "from langchain_openai import ChatOpenAI\n",
    "\n",
    "chatModel35 = ChatOpenAI(model=\"gpt-3.5-turbo-0125\")\n",
    "chatModel4o = ChatOpenAI(model=\"gpt-4o\")"
   ]
  },
  {
   "cell_type": "markdown",
   "id": "ad374610-5c75-4427-8446-7eb599b7fcb6",
   "metadata": {},
   "source": [
    "## Let's add a few messages to the app state"
   ]
  },
  {
   "cell_type": "code",
   "execution_count": 6,
   "id": "6cfc9122-ed5d-4d44-a6ff-a97ac6e8a736",
   "metadata": {},
   "outputs": [],
   "source": [
    "from pprint import pprint\n",
    "from langchain_core.messages import AIMessage, HumanMessage\n",
    "\n",
    "messages = [AIMessage(f\"So you said you were researching about the Kennedys?\", name=\"Bot\")]\n",
    "\n",
    "messages.append(HumanMessage(f\"Yes, I know about JFK. But what others should I learn about?\", name=\"Julio\"))"
   ]
  },
  {
   "cell_type": "code",
   "execution_count": 7,
   "id": "05fbfc1a-5858-4122-8012-890a27afafa7",
   "metadata": {},
   "outputs": [
    {
     "data": {
      "text/plain": [
       "AIMessage(content='In addition to John F. Kennedy (JFK), there are several other notable members of the Kennedy family you might find interesting:\\n\\n1. **Robert F. Kennedy (RFK)**: JFK\\'s younger brother, Robert served as the U.S. Attorney General from 1961 to 1964 and was a key advisor during JFK\\'s presidency. He became a U.S. Senator from New York and was assassinated in 1968 while campaigning for the presidency.\\n\\n2. **Edward \"Ted\" Kennedy**: The youngest Kennedy brother, he served as a U.S. Senator from Massachusetts for nearly 47 years, becoming one of the most influential senators in American history through his work on health care, civil rights, and education.\\n\\n3. **Jacqueline Kennedy Onassis**: JFK\\'s wife, Jackie was the First Lady from 1961 to 1963 and became an international icon of style and grace. After JFK\\'s assassination, she married Greek shipping magnate Aristotle Onassis.\\n\\n4. **Joseph P. Kennedy Sr.**: The patriarch of the Kennedy family, Joseph was a prominent businessman and political figure. He served as the U.S. Ambassador to the United Kingdom before World War II.\\n\\n5. **Joseph P. Kennedy Jr.**: The eldest Kennedy son, Joseph was groomed for a political career but was killed in action during World War II, leading the family to focus their ambitions on JFK.\\n\\n6. **Eunice Kennedy Shriver**: A sister of JFK, she founded the Special Olympics in 1968 and was an advocate for individuals with intellectual disabilities.\\n\\n7. **Caroline Kennedy**: The only surviving child of JFK and Jackie, Caroline is an author, attorney, and diplomat. She served as the U.S. Ambassador to Japan from 2013 to 2017.\\n\\n8. **Patrick J. Kennedy**: Ted Kennedy\\'s son, Patrick served as a U.S. Representative from Rhode Island and has been an advocate for mental health and substance abuse treatment.\\n\\nThese members, among others, have played significant roles in American politics, public service, and philanthropy, shaping the Kennedy family\\'s legacy.', additional_kwargs={'refusal': None}, response_metadata={'token_usage': {'completion_tokens': 434, 'prompt_tokens': 43, 'total_tokens': 477, 'completion_tokens_details': {'accepted_prediction_tokens': 0, 'audio_tokens': 0, 'reasoning_tokens': 0, 'rejected_prediction_tokens': 0}, 'prompt_tokens_details': {'audio_tokens': 0, 'cached_tokens': 0}}, 'model_name': 'gpt-4o-2024-08-06', 'system_fingerprint': 'fp_a7d06e42a7', 'finish_reason': 'stop', 'logprobs': None}, id='run-0d357f37-7963-43a0-89d9-2d33e34434dd-0', usage_metadata={'input_tokens': 43, 'output_tokens': 434, 'total_tokens': 477, 'input_token_details': {'audio': 0, 'cache_read': 0}, 'output_token_details': {'audio': 0, 'reasoning': 0}})"
      ]
     },
     "execution_count": 7,
     "metadata": {},
     "output_type": "execute_result"
    }
   ],
   "source": [
    "chatModel4o.invoke(messages)"
   ]
  },
  {
   "cell_type": "markdown",
   "id": "9a43a635-47bc-4d53-8872-bb98c311f522",
   "metadata": {},
   "source": [
    "## Let's create a simple chatbot with LangGraph"
   ]
  },
  {
   "cell_type": "code",
   "execution_count": 8,
   "id": "0a7a3e18-3e86-45d6-80ba-9de3110ccc44",
   "metadata": {},
   "outputs": [
    {
     "data": {
      "image/png": "[encoded data removed]",
      "text/plain": [
       "<IPython.core.display.Image object>"
      ]
     },
     "metadata": {},
     "output_type": "display_data"
    }
   ],
   "source": [
    "from IPython.display import Image, display\n",
    "from langgraph.graph import MessagesState\n",
    "from langgraph.graph import StateGraph, START, END\n",
    "\n",
    "llm = ChatOpenAI(model=\"gpt-4o\")\n",
    "\n",
    "# Node: see how we use the built-in MessagesState\n",
    "def chat_model_node(state: MessagesState):\n",
    "    return {\"messages\": llm.invoke(state[\"messages\"])}\n",
    "\n",
    "# Build graph\n",
    "builder = StateGraph(MessagesState)\n",
    "\n",
    "builder.add_node(\"chat_model\", chat_model_node)\n",
    "\n",
    "builder.add_edge(START, \"chat_model\")\n",
    "builder.add_edge(\"chat_model\", END)\n",
    "\n",
    "graph = builder.compile()\n",
    "\n",
    "# View\n",
    "display(Image(graph.get_graph().draw_mermaid_png()))"
   ]
  },
  {
   "cell_type": "code",
   "execution_count": 9,
   "id": "a5cce25e-2a1c-44f3-b5b3-70202165e346",
   "metadata": {},
   "outputs": [
    {
     "name": "stdout",
     "output_type": "stream",
     "text": [
      "==================================\u001b[1m Ai Message \u001b[0m==================================\n",
      "Name: Bot\n",
      "\n",
      "So you said you were researching about the Kennedys?\n",
      "================================\u001b[1m Human Message \u001b[0m=================================\n",
      "Name: Julio\n",
      "\n",
      "Yes, I know about JFK. But what others should I learn about?\n",
      "==================================\u001b[1m Ai Message \u001b[0m==================================\n",
      "\n",
      "The Kennedy family is a prominent American political family known for its significant contributions to politics, public service, and business. Beyond John F. Kennedy (JFK), here are some other notable members you might want to learn about:\n",
      "\n",
      "1. **Joseph P. Kennedy Sr.**: The patriarch of the Kennedy family, Joseph was a successful businessman and served as the U.S. Ambassador to the United Kingdom. He played a crucial role in shaping the political aspirations of his children.\n",
      "\n",
      "2. **Rose Kennedy**: The matriarch of the family, Rose was deeply involved in her children's lives and was known for her strong Catholic faith and philanthropic efforts.\n",
      "\n",
      "3. **Robert F. Kennedy (RFK)**: JFK's younger brother, RFK served as the U.S. Attorney General and was a key figure in the civil rights movement. He later became a U.S. Senator and was a presidential candidate before his assassination in 1968.\n",
      "\n",
      "4. **Edward \"Ted\" Kennedy**: The youngest Kennedy brother, Ted served as a U.S. Senator from Massachusetts for nearly 47 years. He was known for his work on healthcare reform and education.\n",
      "\n",
      "5. **Joseph P. Kennedy Jr.**: The eldest of the Kennedy siblings, Joseph was a naval aviator who was killed in action during World War II. His death led to JFK taking on the family's political aspirations.\n",
      "\n",
      "6. **Eunice Kennedy Shriver**: A sister of JFK, Eunice was an advocate for people with intellectual disabilities and founded the Special Olympics.\n",
      "\n",
      "7. **Caroline Kennedy**: The daughter of JFK, Caroline has been involved in public service, serving as the U.S. Ambassador to Japan and later Australia, and has written several books.\n",
      "\n",
      "8. **John F. Kennedy Jr.**: The son of JFK, he was a lawyer, journalist, and magazine publisher. He gained significant public attention and was considered a potential political candidate before his untimely death in a plane crash in 1999.\n",
      "\n",
      "These are just a few of the many influential members of the Kennedy family, each with their own unique contributions to American society and politics.\n"
     ]
    }
   ],
   "source": [
    "output = graph.invoke({'messages': messages})\n",
    "\n",
    "for m in output['messages']:\n",
    "    m.pretty_print()"
   ]
  },
  {
   "cell_type": "markdown",
   "id": "ff6bfb24-6e29-41b5-8033-f05e7f42da9c",
   "metadata": {},
   "source": [
    "## Techniques to prevent high token usage in a conversation with a chatbot\n",
    "* Long-running conversations result in high token usage because the user can pass a growing list of messages to the model."
   ]
  },
  {
   "cell_type": "markdown",
   "id": "94a77e66-d1bd-4abb-9602-5b3cde988ca6",
   "metadata": {},
   "source": [
    "#### Technique #1: Use a reducer to keep only the last messages in memory\n",
    "* Using RemoveMessage and the add_messages reducer."
   ]
  },
  {
   "cell_type": "code",
   "execution_count": 10,
   "id": "3e575017-71af-451e-8647-a4662d829b9b",
   "metadata": {},
   "outputs": [
    {
     "data": {
      "image/png": "[encoded data removed]",
      "text/plain": [
       "<IPython.core.display.Image object>"
      ]
     },
     "metadata": {},
     "output_type": "display_data"
    }
   ],
   "source": [
    "from langchain_core.messages import RemoveMessage\n",
    "\n",
    "# Nodes\n",
    "def filter_messages(state: MessagesState):\n",
    "    # Delete all but the 2 most recent messages\n",
    "    delete_messages = [RemoveMessage(id=m.id) for m in state[\"messages\"][:-2]]\n",
    "    return {\"messages\": delete_messages}\n",
    "\n",
    "def chat_model_node(state: MessagesState):    \n",
    "    return {\"messages\": [llm.invoke(state[\"messages\"])]}\n",
    "\n",
    "# Build graph\n",
    "builder = StateGraph(MessagesState)\n",
    "\n",
    "builder.add_node(\"filter\", filter_messages)\n",
    "builder.add_node(\"chat_model\", chat_model_node)\n",
    "\n",
    "builder.add_edge(START, \"filter\")\n",
    "builder.add_edge(\"filter\", \"chat_model\")\n",
    "builder.add_edge(\"chat_model\", END)\n",
    "\n",
    "graph = builder.compile()\n",
    "\n",
    "# View\n",
    "display(Image(graph.get_graph().draw_mermaid_png()))"
   ]
  },
  {
   "cell_type": "markdown",
   "id": "a9313ba5-47e7-44b0-af95-bed67b32412e",
   "metadata": {},
   "source": [
    "#### What does the previous function filter_messages do?\n",
    "\n",
    "The function `filter_messages` processes a collection of messages stored in the `MessagesState` object. Here's a step-by-step explanation in simple terms:\n",
    "\n",
    "1. **Input**: The function takes one input, `state`, which is expected to be an object containing a list of messages under the key `\"messages\"`.\n",
    "\n",
    "2. **Goal**: The goal is to delete all but the two most recent messages.\n",
    "\n",
    "3. **Logic**:\n",
    "   - The line `state[\"messages\"][:-2]` selects all messages except the last two in the list. This is done using Python slicing.\n",
    "   - A list comprehension is used to create a new list called `delete_messages`. For each message in the sliced list, it creates a `RemoveMessage` object with the `id` of the message to mark it for deletion.\n",
    "\n",
    "4. **Output**:\n",
    "   - The function returns a dictionary with a key `\"messages\"` containing the list of `RemoveMessage` objects. These objects represent the messages that should be deleted.\n",
    "\n",
    "#### Example in Practice\n",
    "Suppose the `state` object contains the following messages:\n",
    "\n",
    "```python\n",
    "state = {\n",
    "    \"messages\": [\n",
    "        {\"id\": 1, \"content\": \"Hello\"},\n",
    "        {\"id\": 2, \"content\": \"How are you?\"},\n",
    "        {\"id\": 3, \"content\": \"I'm good.\"},\n",
    "        {\"id\": 4, \"content\": \"What about you?\"}\n",
    "    ]\n",
    "}\n",
    "```\n",
    "\n",
    "- The slicing `state[\"messages\"][:-2]` selects the first two messages (`id=1` and `id=2`).\n",
    "- The function creates `RemoveMessage` objects for these messages:\n",
    "  ```python\n",
    "  [\n",
    "      RemoveMessage(id=1),\n",
    "      RemoveMessage(id=2)\n",
    "  ]\n",
    "  ```\n",
    "- The output will be:\n",
    "  ```python\n",
    "  {\"messages\": [RemoveMessage(id=1), RemoveMessage(id=2)]}\n",
    "  ```\n",
    "This tells the system to delete the first two messages, keeping only the last two. This **output alone does not modify the state of the messages**. It is just a list of instructions indicating which messages should be removed. The actual deletion would need to happen next based on this output.\n",
    "\n",
    "Once LangGraph processes the output of the function and removes the specified messages (`id=1` and `id=2`) from the original `state`, then the final state of the messages would contain only the last two messages:\n",
    "\n",
    "```python\n",
    "[\n",
    "    {\"id\": 3, \"content\": \"I'm good.\"},\n",
    "    {\"id\": 4, \"content\": \"What about you?\"}\n",
    "]\n",
    "```\n",
    "\n",
    "LangGraph uses the `RemoveMessage` objects to delete messages from `state[\"messages\"]`. "
   ]
  },
  {
   "cell_type": "code",
   "execution_count": 11,
   "id": "4b95927c-4854-4f34-be28-e4b19c647783",
   "metadata": {},
   "outputs": [
    {
     "name": "stdout",
     "output_type": "stream",
     "text": [
      "==================================\u001b[1m Ai Message \u001b[0m==================================\n",
      "Name: Bot\n",
      "\n",
      "So you said you were researching on the Kennedys?\n",
      "================================\u001b[1m Human Message \u001b[0m=================================\n",
      "Name: Julio\n",
      "\n",
      "Yes, I know about JFK. But what others should I learn about?\n",
      "==================================\u001b[1m Ai Message \u001b[0m==================================\n",
      "\n",
      "Aside from John F. Kennedy, there are several other notable members of the Kennedy family you might be interested in learning about:\n",
      "\n",
      "1. **Robert F. Kennedy (RFK)** - JFK's younger brother who served as the U.S. Attorney General from 1961 to 1964 and later as a U.S. Senator from New York. He was a prominent advocate for civil rights and social justice and was assassinated in 1968 while running for the Democratic presidential nomination.\n",
      "\n",
      "2. **Edward \"Ted\" Kennedy** - The youngest Kennedy brother who served as a U.S. Senator from Massachusetts for nearly 47 years, from 1962 until his death in 2009. He played a significant role in major legislative efforts, including health care reform and education.\n",
      "\n",
      "3. **Joseph P. Kennedy Sr.** - The patriarch of the Kennedy family who was a successful businessman and served as the U.S. Ambassador to the United Kingdom. His ambitions for his sons helped shape their political careers.\n",
      "\n",
      "4. **Joseph P. Kennedy Jr.** - The eldest Kennedy son who was a naval aviator during World War II and was killed in action in 1944. He was initially seen as the family's political standard-bearer.\n",
      "\n",
      "5. **Jacqueline Kennedy Onassis** - JFK's wife and the First Lady of the United States from 1961 to 1963, known for her style, grace, and contributions to the arts and historic preservation.\n",
      "\n",
      "6. **Eunice Kennedy Shriver** - JFK's sister, who founded the Special Olympics in 1968, an organization dedicated to empowering individuals with intellectual disabilities through sports.\n",
      "\n",
      "7. **Caroline Kennedy** - The only surviving child of JFK and Jacqueline Kennedy, she has served as a U.S. Ambassador to Japan and is an author and attorney.\n",
      "\n",
      "8. **Patrick J. Kennedy** - Ted Kennedy's son, who served as a U.S. Representative from Rhode Island and has been an advocate for mental health issues.\n",
      "\n",
      "These family members, among others, have played significant roles in American politics, public service, and advocacy.\n"
     ]
    }
   ],
   "source": [
    "# Message list with a preamble\n",
    "messages = [AIMessage(\"Hi.\", name=\"Bot\", id=\"1\")]\n",
    "messages.append(HumanMessage(\"Hi.\", name=\"Julio\", id=\"2\"))\n",
    "messages.append(AIMessage(\"So you said you were researching on the Kennedys?\", name=\"Bot\", id=\"3\"))\n",
    "messages.append(HumanMessage(\"Yes, I know about JFK. But what others should I learn about?\", name=\"Julio\", id=\"4\"))\n",
    "\n",
    "# Invoke\n",
    "output = graph.invoke({'messages': messages})\n",
    "\n",
    "for m in output['messages']:\n",
    "    m.pretty_print()"
   ]
  },
  {
   "cell_type": "markdown",
   "id": "d53c06bc-4bba-4614-9aa6-660c1dbe5aa1",
   "metadata": {},
   "source": [
    "#### Technique #2: Filter only the last message in memory\n",
    "* With this option you do not delete the previous messages.\n",
    "* The state has all of the mesages.\n",
    "* But only the filtered messages were sent to the LLM.\n",
    "* If you look in LangSmith, you will see see that the model invocation only uses the last message."
   ]
  },
  {
   "cell_type": "code",
   "execution_count": 12,
   "id": "01f95116-2239-45dd-81ed-7a22dfdce1e8",
   "metadata": {},
   "outputs": [
    {
     "data": {
      "image/png": "[encoded data removed]",
      "text/plain": [
       "<IPython.core.display.Image object>"
      ]
     },
     "metadata": {},
     "output_type": "display_data"
    }
   ],
   "source": [
    "# Node\n",
    "# Filter only the last message of the state\n",
    "def chat_model_node(state: MessagesState):\n",
    "    return {\"messages\": [llm.invoke(state[\"messages\"][-1:])]}\n",
    "\n",
    "# Build graph\n",
    "builder = StateGraph(MessagesState)\n",
    "\n",
    "builder.add_node(\"chat_model\", chat_model_node)\n",
    "builder.add_edge(START, \"chat_model\")\n",
    "builder.add_edge(\"chat_model\", END)\n",
    "\n",
    "graph = builder.compile()\n",
    "\n",
    "# View\n",
    "display(Image(graph.get_graph().draw_mermaid_png()))"
   ]
  },
  {
   "cell_type": "markdown",
   "id": "53432d40-99ae-4605-abde-90664f013a37",
   "metadata": {},
   "source": [
    "#### Explanation\n",
    "\n",
    "In the previous code we extracted the **last message** from the list stored in the `state` object. Here's how it works, step by step:\n",
    "\n",
    "1. **`state[\"messages\"]`**: This accesses a value in the dictionary `state` using the key `\"messages\"`. It assumes that `state[\"messages\"]` is a list (like `[msg1, msg2, msg3, ...]`).\n",
    "\n",
    "2. **`[-1:]`**: This is **Python list slicing**. The `-1` means \"start from the last item of the list\", and the `:` means \"take everything up to the end.\" \n",
    "   - Instead of returning just the last item, this returns a **list containing the last item**. \n",
    "\n",
    "#### Example\n",
    "\n",
    "```python\n",
    "state = {\n",
    "    \"messages\": [\"Hello\", \"How are you?\", \"Goodbye\"]\n",
    "}\n",
    "\n",
    "# Extract the last message as a list\n",
    "last_message = state[\"messages\"][-1:]\n",
    "\n",
    "print(last_message)  # Output: ['Goodbye']\n",
    "```\n",
    "\n",
    "Keep in mind that we did not use `state[\"messages\"][-1]`. That would extract only the last item of the list, but the result will not be a list. Here's why:\n",
    "\n",
    "- **`state[\"messages\"][-1]`**: This retrieves **only the last item** from the list, but the result will be the item itself, not a list.\n",
    "\n",
    "- **`state[\"messages\"][-1:]`**: This retrieves the **last item as a new list containing that single item**. It's a slice of the list starting from the last element, so it keeps the result in list form."
   ]
  },
  {
   "cell_type": "code",
   "execution_count": 25,
   "id": "54c7c637-9c56-4fc8-a105-fe028d26f69c",
   "metadata": {},
   "outputs": [
    {
     "name": "stdout",
     "output_type": "stream",
     "text": [
      "==================================\u001b[1m Ai Message \u001b[0m==================================\n",
      "Name: Bot\n",
      "\n",
      "Hi.\n",
      "================================\u001b[1m Human Message \u001b[0m=================================\n",
      "Name: Julio\n",
      "\n",
      "Hi.\n",
      "==================================\u001b[1m Ai Message \u001b[0m==================================\n",
      "Name: Bot\n",
      "\n",
      "So you said you were researching on the Kennedys?\n",
      "================================\u001b[1m Human Message \u001b[0m=================================\n",
      "Name: Julio\n",
      "\n",
      "Yes, I know about JFK. But what others should I learn about?\n",
      "================================\u001b[1m Human Message \u001b[0m=================================\n",
      "Name: Julio\n",
      "\n",
      "This is my last message. What was our previous conversation about?\n",
      "================================\u001b[1m Human Message \u001b[0m=================================\n",
      "Name: Julio\n",
      "\n",
      "This is my last message. What was our previous conversation about?\n",
      "==================================\u001b[1m Ai Message \u001b[0m==================================\n",
      "\n",
      "I'm sorry, but I can't recall previous conversations. However, if you provide some context or details, I'll do my best to help with any questions or topics you're interested in.\n"
     ]
    }
   ],
   "source": [
    "messages.append(HumanMessage(f\"This is my last message. What was our previous conversation about?\", name=\"Julio\"))\n",
    "\n",
    "# Invoke\n",
    "output = graph.invoke({'messages': messages})\n",
    "\n",
    "for m in output['messages']:\n",
    "    m.pretty_print()"
   ]
  },
  {
   "cell_type": "markdown",
   "id": "501737d7-93a7-4ce9-a850-121e0892ba6d",
   "metadata": {},
   "source": [
    "* **As you can see, even when the LLM prints the whole conversation, the current state has filtered all but the last message, so it does not have memory of our previous conversation**."
   ]
  },
  {
   "cell_type": "markdown",
   "id": "04b690a3-7329-4497-a427-2b04157f8dee",
   "metadata": {},
   "source": [
    "#### Technique #3: Use a reducer to trim the number of tokens in the state\n",
    "* This restricts the message history to a specified number of tokens."
   ]
  },
  {
   "cell_type": "code",
   "execution_count": 23,
   "id": "cd684623-873f-4077-bf60-9e089d21b477",
   "metadata": {},
   "outputs": [
    {
     "data": {
      "image/png": "[encoded data removed]",
      "text/plain": [
       "<IPython.core.display.Image object>"
      ]
     },
     "metadata": {},
     "output_type": "display_data"
    }
   ],
   "source": [
    "from langchain_core.messages import trim_messages\n",
    "\n",
    "# Node\n",
    "def chat_model_node(state: MessagesState):\n",
    "    messages = trim_messages(\n",
    "            state[\"messages\"],\n",
    "            max_tokens=25,\n",
    "            # see the difference with:\n",
    "            # max_tokens=100,\n",
    "            strategy=\"last\",\n",
    "            token_counter=ChatOpenAI(model=\"gpt-4o\"),\n",
    "            allow_partial=False,\n",
    "        )\n",
    "    return {\"messages\": [llm.invoke(messages)]}\n",
    "\n",
    "# Build graph\n",
    "builder = StateGraph(MessagesState)\n",
    "\n",
    "builder.add_node(\"chat_model\", chat_model_node)\n",
    "builder.add_edge(START, \"chat_model\")\n",
    "builder.add_edge(\"chat_model\", END)\n",
    "\n",
    "graph = builder.compile()\n",
    "\n",
    "# View\n",
    "display(Image(graph.get_graph().draw_mermaid_png()))"
   ]
  },
  {
   "cell_type": "markdown",
   "id": "c2459e7c-b265-4d0c-bf8b-6f122467098f",
   "metadata": {},
   "source": [
    "## Let's explain the previous function in simple terms\n",
    "\n",
    "In the previous code we defined a function called `chat_model_node` that processes a conversation's messages in a specific way and returns a response. Let’s break it down step by step:\n",
    "\n",
    "#### Function Definition\n",
    "```python\n",
    "def chat_model_node(state: MessagesState):\n",
    "```\n",
    "- The function `chat_model_node` takes one input parameter, `state`, which is expected to be an instance of `MessagesState`.\n",
    "- `state` contains the conversation's messages in some structured format.\n",
    "\n",
    "#### Trimming Messages\n",
    "```python\n",
    "messages = trim_messages(\n",
    "    state[\"messages\"],\n",
    "    max_tokens=25,\n",
    "    strategy=\"last\",\n",
    "    token_counter=ChatOpenAI(model=\"gpt-4o\"),\n",
    "    allow_partial=False,\n",
    ")\n",
    "```\n",
    "- **`trim_messages`**: A function that reduces the size of the conversation messages to meet certain constraints.\n",
    "- **Parameters**:\n",
    "  - `state[\"messages\"]`: The current conversation messages.\n",
    "  - `max_tokens=25`: Limits the size of the messages to a maximum of 25 tokens (a token is roughly a word or part of a word).\n",
    "    - There's a commented-out alternative (`max_tokens=100`) to allow up to 100 tokens instead.\n",
    "  - `strategy=\"last\"`: Keeps only the most recent messages if the conversation is too long.\n",
    "  - `token_counter=ChatOpenAI(model=\"gpt-4o\")`: Uses the `gpt-4o` model to count the number of tokens in the messages.\n",
    "  - `allow_partial=False`: Ensures that messages aren’t partially truncated; only full messages are included.\n",
    "\n",
    "#### Returning the Response\n",
    "```python\n",
    "return {\"messages\": [llm.invoke(messages)]}\n",
    "```\n",
    "- After trimming, the function prepares a response:\n",
    "  - **`llm.invoke(messages)`**: Sends the trimmed messages to a language model (likely a GPT-based model) and gets the response.\n",
    "  - **`{\"messages\": [...]}`**: Packages the response from the model in a dictionary under the `\"messages\"` key.\n",
    "\n",
    "#### Summary\n",
    "- The function `chat_model_node` processes conversation messages by trimming them to a manageable size (based on the token limit and strategy).\n",
    "- It then sends the trimmed messages to a language model for a response.\n",
    "- The final output is a dictionary containing the model's response."
   ]
  },
  {
   "cell_type": "code",
   "execution_count": 24,
   "id": "42925fcb-706c-4fc7-8594-567fb43ae452",
   "metadata": {},
   "outputs": [
    {
     "name": "stdout",
     "output_type": "stream",
     "text": [
      "==================================\u001b[1m Ai Message \u001b[0m==================================\n",
      "Name: Bot\n",
      "\n",
      "Hi.\n",
      "================================\u001b[1m Human Message \u001b[0m=================================\n",
      "Name: Julio\n",
      "\n",
      "Hi.\n",
      "==================================\u001b[1m Ai Message \u001b[0m==================================\n",
      "Name: Bot\n",
      "\n",
      "So you said you were researching on the Kennedys?\n",
      "================================\u001b[1m Human Message \u001b[0m=================================\n",
      "Name: Julio\n",
      "\n",
      "Yes, I know about JFK. But what others should I learn about?\n",
      "================================\u001b[1m Human Message \u001b[0m=================================\n",
      "Name: Julio\n",
      "\n",
      "This is my last message. What was our previous conversation about?\n",
      "==================================\u001b[1m Ai Message \u001b[0m==================================\n",
      "\n",
      "I'm sorry, but I can't recall previous conversations. Could you remind me what we were discussing?\n"
     ]
    }
   ],
   "source": [
    "# Invoke\n",
    "output = graph.invoke({'messages': messages})\n",
    "\n",
    "for m in output['messages']:\n",
    "    m.pretty_print()"
   ]
  },
  {
   "cell_type": "markdown",
   "id": "351ee6dd-803e-4f08-a1b9-5081dc9f922c",
   "metadata": {},
   "source": [
    "* **Execute the previous two cells with max-token=100 to see the difference. With max-token=100 the LLM remembers our previous conversation because it has it in the state.**"
   ]
  },
  {
   "cell_type": "markdown",
   "id": "4d1fa0cd-e4c7-4452-823d-8ebc9e36b309",
   "metadata": {},
   "source": [
    "## How to execute the code from Visual Studio Code\n",
    "* In Visual Studio Code, see the file 012-filter-trim-messages.py\n",
    "* In terminal, make sure you are in the directory of the file and run:\n",
    "    * python 012-filter-trim-messages.py"
   ]
  },
  {
   "cell_type": "code",
   "execution_count": null,
   "id": "b1af248e-6069-44b3-a2cd-a20aa3259874",
   "metadata": {},
   "outputs": [],
   "source": []
  }
 ],
 "metadata": {
  "kernelspec": {
   "display_name": "Python 3 (ipykernel)",
   "language": "python",
   "name": "python3"
  },
  "language_info": {
   "codemirror_mode": {
    "name": "ipython",
    "version": 3
   },
   "file_extension": ".py",
   "mimetype": "text/x-python",
   "name": "python",
   "nbconvert_exporter": "python",
   "pygments_lexer": "ipython3",
   "version": "3.12.5"
  }
 },
 "nbformat": 4,
 "nbformat_minor": 5
}
