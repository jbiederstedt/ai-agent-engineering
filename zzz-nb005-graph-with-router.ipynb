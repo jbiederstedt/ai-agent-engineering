{
 "cells": [
  {
   "cell_type": "markdown",
   "id": "be46161e-45e9-46d7-8214-bcbea10aff2e",
   "metadata": {},
   "source": [
    "# App with a Router\n",
    "* Goal: replicate the previous exercise, but this time using a conditional edge as a router to decide between two nodes."
   ]
  },
  {
   "cell_type": "markdown",
   "id": "079c36e6-341f-409b-98b0-e4ae680b78e6",
   "metadata": {},
   "source": [
    "## Setup"
   ]
  },
  {
   "cell_type": "markdown",
   "id": "871e0018-cba4-4959-881a-0a65093d202d",
   "metadata": {},
   "source": [
    "#### After you download the code from the github repository in your computer\n",
    "In terminal:\n",
    "* cd project_name\n",
    "* pyenv local 3.11.4\n",
    "* poetry install\n",
    "* poetry shell"
   ]
  },
  {
   "cell_type": "markdown",
   "id": "4065e336-d054-412c-8a3f-1fbec63e1bcd",
   "metadata": {},
   "source": [
    "#### To open the notebook with Jupyter Notebooks\n",
    "In terminal:\n",
    "* jupyter lab\n",
    "\n",
    "Go to the folder of notebooks and open the right notebook."
   ]
  },
  {
   "cell_type": "markdown",
   "id": "62dda8d4-80cf-4b8f-9981-94edda5e9911",
   "metadata": {},
   "source": [
    "#### To see the code in Virtual Studio Code or your editor of choice.\n",
    "* open Virtual Studio Code or your editor of choice.\n",
    "* open the project-folder\n",
    "* open the 005-graph-with-router.py file"
   ]
  },
  {
   "cell_type": "markdown",
   "id": "af743328-1bc8-4b01-85fb-fcb21c6499c2",
   "metadata": {},
   "source": [
    "## Create your .env file\n",
    "* In the github repo we have included a file named .env.example\n",
    "* Rename that file to .env file and here is where you will add your confidential api keys. Remember to include:\n",
    "* OPENAI_API_KEY=your_openai_api_key\n",
    "* LANGCHAIN_TRACING_V2=true\n",
    "* LANGCHAIN_ENDPOINT=https://api.smith.langchain.com\n",
    "* LANGCHAIN_API_KEY=your_langchain_api_key\n",
    "* LANGCHAIN_PROJECT=your_project_name"
   ]
  },
  {
   "cell_type": "markdown",
   "id": "40e766aa-f3e2-491f-be99-d0c6b700d47a",
   "metadata": {},
   "source": [
    "## Track operations\n",
    "From now on, we can track the operations **and the cost** of this project from LangSmith:\n",
    "* [smith.langchain.com](https://smith.langchain.com)"
   ]
  },
  {
   "cell_type": "markdown",
   "id": "4f99504a-1b8f-4360-b342-0b81ffa06aff",
   "metadata": {},
   "source": [
    "## Connect with the .env file located in the same directory of this notebook"
   ]
  },
  {
   "cell_type": "markdown",
   "id": "e39e5789-5bde-42e1-88dd-92dc8e363c24",
   "metadata": {},
   "source": [
    "If you are using the pre-loaded poetry shell, you do not need to install the following package because it is already pre-loaded for you:"
   ]
  },
  {
   "cell_type": "code",
   "execution_count": 1,
   "id": "c5514113-ddca-4ae9-9de6-0b9225b18f3c",
   "metadata": {},
   "outputs": [],
   "source": [
    "#pip install python-dotenv"
   ]
  },
  {
   "cell_type": "code",
   "execution_count": 2,
   "id": "fecd39d0-e72e-4bc2-8a68-2fa4008ea365",
   "metadata": {},
   "outputs": [],
   "source": [
    "import os\n",
    "from dotenv import load_dotenv, find_dotenv\n",
    "_ = load_dotenv(find_dotenv())\n",
    "openai_api_key = os.environ[\"OPENAI_API_KEY\"]"
   ]
  },
  {
   "cell_type": "markdown",
   "id": "03f4a923-b19e-498e-9be5-e47ec4a77d80",
   "metadata": {},
   "source": [
    "#### Install LangChain"
   ]
  },
  {
   "cell_type": "markdown",
   "id": "9fef1e5c-b7e2-4a04-96c5-8f64377b8eba",
   "metadata": {},
   "source": [
    "If you are using the pre-loaded poetry shell, you do not need to install the following package because it is already pre-loaded for you:"
   ]
  },
  {
   "cell_type": "code",
   "execution_count": 3,
   "id": "c1cf94ae-6c39-4475-9c5b-4b74d8d78753",
   "metadata": {},
   "outputs": [],
   "source": [
    "#!pip install langchain"
   ]
  },
  {
   "cell_type": "markdown",
   "id": "189e9e17-dfb0-4fd3-85b9-1fba83771941",
   "metadata": {},
   "source": [
    "## Connect with an LLM"
   ]
  },
  {
   "cell_type": "markdown",
   "id": "b21d23f4-61f5-4227-8a75-7eefde6680ee",
   "metadata": {},
   "source": [
    "If you are using the pre-loaded poetry shell, you do not need to install the following package because it is already pre-loaded for you:"
   ]
  },
  {
   "cell_type": "code",
   "execution_count": 4,
   "id": "148df8e0-361d-4ddd-8709-af48fa1648d1",
   "metadata": {},
   "outputs": [],
   "source": [
    "#!pip install langchain-openai"
   ]
  },
  {
   "cell_type": "code",
   "execution_count": 5,
   "id": "df978ec5-bfd2-4167-bd33-86bc2687d1cb",
   "metadata": {},
   "outputs": [],
   "source": [
    "from langchain_openai import ChatOpenAI\n",
    "\n",
    "chatModel35 = ChatOpenAI(model=\"gpt-3.5-turbo-0125\")\n",
    "chatModel4o = ChatOpenAI(model=\"gpt-4o\")"
   ]
  },
  {
   "cell_type": "markdown",
   "id": "10e6ae1f-56fa-4696-b595-682e887b91c9",
   "metadata": {},
   "source": [
    "## Let's start by re-using the LLM with tools we created in the previous exercise"
   ]
  },
  {
   "cell_type": "code",
   "execution_count": 6,
   "id": "768b48e1-86c7-4f4e-ba98-e1db97f9a090",
   "metadata": {},
   "outputs": [],
   "source": [
    "def multiply(a: int, b: int) -> int:\n",
    "    \"\"\"Multiply a and b.\n",
    "\n",
    "    Args:\n",
    "        a: first int\n",
    "        b: second int\n",
    "    \"\"\"\n",
    "    return a * b\n",
    "\n",
    "chatModel4o_with_tools = chatModel4o.bind_tools([multiply])"
   ]
  },
  {
   "cell_type": "markdown",
   "id": "598a3c83-05f4-48da-a289-400da2a4940c",
   "metadata": {},
   "source": [
    "## Building an app (called \"graph\" in langgraph) that decides if it respondes the user question by using a chatbot or a tool"
   ]
  },
  {
   "cell_type": "markdown",
   "id": "0437b47d-b809-412b-9ac7-6c0bc3d16515",
   "metadata": {},
   "source": [
    "* Here you have a graphic representation of the app we will build:"
   ]
  },
  {
   "cell_type": "markdown",
   "id": "ee6f81f0-93a4-4ea1-99b6-95283dc074f6",
   "metadata": {},
   "source": [
    "![Simple graph](graph003.png)"
   ]
  },
  {
   "cell_type": "markdown",
   "id": "20582816-6275-45ca-8cab-7f923a612cfc",
   "metadata": {},
   "source": [
    "## Define the State schema of the graph\n",
    "* The first thing you do when you define a graph is define the State of the graph. \n",
    "* The State schema defines the format of the input for all nodes and edges in the graph.\n",
    "* The schema of the State can be either a TypedDict or a Pydantic model."
   ]
  },
  {
   "cell_type": "markdown",
   "id": "44f06271-294c-4c34-b408-d1c66e6e81eb",
   "metadata": {},
   "source": [
    "* For this example, we will use the same MessagesState we used in the previous exercise:"
   ]
  },
  {
   "cell_type": "code",
   "execution_count": 7,
   "id": "a9a55705-f664-416a-ac99-d6bf6a62b5a6",
   "metadata": {},
   "outputs": [],
   "source": [
    "from langgraph.graph import MessagesState\n",
    "\n",
    "class MessagesState(MessagesState):\n",
    "    # Add any keys needed beyond messages, which is pre-built \n",
    "    pass"
   ]
  },
  {
   "cell_type": "markdown",
   "id": "edbf3855-b498-4c93-bf13-7aebf0d03322",
   "metadata": {},
   "source": [
    "## Define the Nodes of the graph\n",
    "* The Nodes of a graph are defined as python functions.\n",
    "* The first argument of a Node function is the state. Because of that, in this exercise each node can access the key `messages`, with `state['messages']`.\n",
    "* In this example, we will start with the node we created in the previous exercise:"
   ]
  },
  {
   "cell_type": "code",
   "execution_count": 8,
   "id": "3aa42b34-a6d4-4849-8cec-d415ae8a1016",
   "metadata": {},
   "outputs": [],
   "source": [
    "from langgraph.graph import MessagesState\n",
    "\n",
    "# Node\n",
    "def llm_with_tool(state: MessagesState):\n",
    "    return {\"messages\": [chatModel4o_with_tools.invoke(state[\"messages\"])]}"
   ]
  },
  {
   "cell_type": "markdown",
   "id": "e9f8c3d3-9196-4cb3-89ba-8c7c644abc07",
   "metadata": {},
   "source": [
    "## Combine Nodes and Edges to build the Graph\n",
    "* First, we initialize a StateGraph with the `MessagesState` class we defined above.\n",
    "* Then, we add the nodes and edges.\n",
    "* **See how we are using the ToolNode LangGraph built-in component to create the tool-using node called \"tools\"**.\n",
    "    * We use ToolNode to call the tool. \n",
    "* **See how we are adding the conditional edge with the tools_condition LangGraph built-in component as our router**.\n",
    "* The `START` Node is a special node that sends user input to the graph, to indicate where to start our graph.\n",
    "* The `END` Node is a special node that represents a terminal node.\n",
    "* We compile our graph to perform a few basic checks on the graph structure.\n",
    "* Finally, we visualize the graph as a [Mermaid diagram](https://github.com/mermaid-js/mermaid)."
   ]
  },
  {
   "cell_type": "code",
   "execution_count": 12,
   "id": "34ef5afd-ac6d-4938-8723-7c6f4064d572",
   "metadata": {},
   "outputs": [
    {
     "data": {
      "image/png": "[encoded data removed]",
      "text/plain": [
       "<IPython.core.display.Image object>"
      ]
     },
     "metadata": {},
     "output_type": "display_data"
    }
   ],
   "source": [
    "from IPython.display import Image, display\n",
    "from langgraph.graph import StateGraph, START, END\n",
    "from langgraph.prebuilt import ToolNode\n",
    "from langgraph.prebuilt import tools_condition\n",
    "\n",
    "# Build graph\n",
    "builder = StateGraph(MessagesState)\n",
    "\n",
    "builder.add_node(\"llm_with_tool\", llm_with_tool)\n",
    "builder.add_node(\"tools\", ToolNode([multiply]))\n",
    "\n",
    "# Add the logic of the graph\n",
    "builder.add_edge(START, \"llm_with_tool\")\n",
    "\n",
    "builder.add_conditional_edges(\n",
    "    \"llm_with_tool\",\n",
    "    # If the input is a tool call -> tools_condition routes to tools\n",
    "    # If the input is a not a tool call -> tools_condition routes to END\n",
    "    tools_condition,\n",
    ")\n",
    "\n",
    "builder.add_edge(\"tools\", END)\n",
    "\n",
    "# Compile the graph\n",
    "graph = builder.compile()\n",
    "\n",
    "# Visualize the graph\n",
    "display(Image(graph.get_graph().draw_mermaid_png()))"
   ]
  },
  {
   "cell_type": "markdown",
   "id": "99f9ccf5-dff0-4aa0-8bfa-35cd1caaabf8",
   "metadata": {},
   "source": [
    "## Run the app\n",
    "* The compiled graph implements the runnable protocol, a standard way to execute LangChain components. Because of that, we can use `invoke` as one of the standard methods to run this app.\n",
    "* **With our initial input, there is no need to use the tools**.\n",
    "* When `invoke` is called:\n",
    "    * The graph starts execution from the `START` node.\n",
    "    * It progresses through the defined node.\n",
    "    * The execution continues until it reaches the `END` node."
   ]
  },
  {
   "cell_type": "code",
   "execution_count": 10,
   "id": "fc961c7d-568d-4573-bd0a-805f5821086e",
   "metadata": {},
   "outputs": [
    {
     "name": "stdout",
     "output_type": "stream",
     "text": [
      "================================\u001b[1m Human Message \u001b[0m=================================\n",
      "\n",
      "What was the relationship between Lem Billings and JFK?\n",
      "==================================\u001b[1m Ai Message \u001b[0m==================================\n",
      "\n",
      "Lem Billings and John F. Kennedy (JFK) had a close and enduring friendship. They met as teenagers at the Choate School, a private preparatory school in Connecticut, and quickly became best friends. Their friendship lasted throughout JFK's life, with Billings often being considered a part of the Kennedy family.\n",
      "\n",
      "Billings was known for his loyalty and dedication to JFK. He was a constant presence in Kennedy's life, even during his presidency, and was often involved in family gatherings and events. Despite their different backgrounds—Billings came from a wealthy family in Pittsburgh—he and JFK shared a strong bond and mutual respect. Billings was also known for his wit and charm, qualities that complemented Kennedy's personality.\n",
      "\n",
      "Their friendship is often highlighted as an example of deep personal connection transcending social and political differences. Billings remained close to the Kennedy family even after JFK's assassination in 1963, demonstrating the lasting impact of their friendship.\n"
     ]
    }
   ],
   "source": [
    "from pprint import pprint\n",
    "from langchain_core.messages import HumanMessage\n",
    "\n",
    "messages = [HumanMessage(content=\"What was the relationship between Lem Billings and JFK?\")]\n",
    "\n",
    "messages = graph.invoke({\"messages\": messages})\n",
    "\n",
    "for m in messages['messages']:\n",
    "    m.pretty_print()"
   ]
  },
  {
   "cell_type": "markdown",
   "id": "e0319bfb-73fd-4e96-8d66-e590c83b326c",
   "metadata": {},
   "source": [
    "* **With the second input, the app now uses the tool we defined**:"
   ]
  },
  {
   "cell_type": "code",
   "execution_count": 11,
   "id": "b6b57e02-6026-4224-9919-c8ffe762a9aa",
   "metadata": {},
   "outputs": [
    {
     "name": "stdout",
     "output_type": "stream",
     "text": [
      "================================\u001b[1m Human Message \u001b[0m=================================\n",
      "\n",
      "Multiply 4 and 5\n",
      "==================================\u001b[1m Ai Message \u001b[0m==================================\n",
      "Tool Calls:\n",
      "  multiply (call_JBJcAWySb1tMEUaUvCtvkQcQ)\n",
      " Call ID: call_JBJcAWySb1tMEUaUvCtvkQcQ\n",
      "  Args:\n",
      "    a: 4\n",
      "    b: 5\n",
      "=================================\u001b[1m Tool Message \u001b[0m=================================\n",
      "Name: multiply\n",
      "\n",
      "20\n"
     ]
    }
   ],
   "source": [
    "messages = [HumanMessage(content=\"Multiply 4 and 5\")]\n",
    "\n",
    "messages = graph.invoke({\"messages\": messages})\n",
    "\n",
    "for m in messages['messages']:\n",
    "    m.pretty_print()"
   ]
  },
  {
   "cell_type": "markdown",
   "id": "950ff02a-64ab-402b-9da4-98f75de6aab3",
   "metadata": {},
   "source": [
    "* As you see, our app was able to route our inputs correctly."
   ]
  },
  {
   "cell_type": "markdown",
   "id": "c3b7512a-1fa2-4594-b175-a0f840b479a9",
   "metadata": {},
   "source": [
    "![Simple graph](graph003.png)"
   ]
  },
  {
   "cell_type": "markdown",
   "id": "dbc24f4f-d23c-4202-992d-91b0623136ae",
   "metadata": {},
   "source": [
    "## How to execute the code from Visual Studio Code\n",
    "* In Visual Studio Code, see the file 005-graph-with-router.py\n",
    "* In terminal, make sure you are in the directory of the file and run:\n",
    "    * python 005-graph-with-router.py"
   ]
  },
  {
   "cell_type": "code",
   "execution_count": null,
   "id": "b1af248e-6069-44b3-a2cd-a20aa3259874",
   "metadata": {},
   "outputs": [],
   "source": []
  }
 ],
 "metadata": {
  "kernelspec": {
   "display_name": "Python 3 (ipykernel)",
   "language": "python",
   "name": "python3"
  },
  "language_info": {
   "codemirror_mode": {
    "name": "ipython",
    "version": 3
   },
   "file_extension": ".py",
   "mimetype": "text/x-python",
   "name": "python",
   "nbconvert_exporter": "python",
   "pygments_lexer": "ipython3",
   "version": "3.12.5"
  }
 },
 "nbformat": 4,
 "nbformat_minor": 5
}
