{
 "cells": [
  {
   "cell_type": "markdown",
   "id": "be46161e-45e9-46d7-8214-bcbea10aff2e",
   "metadata": {},
   "source": [
    "# Short vs. Long-Term Memory"
   ]
  },
  {
   "cell_type": "markdown",
   "id": "9be29df9-97cb-4090-8455-292322801f0b",
   "metadata": {},
   "source": [
    "## Short vs. Long-Term Memory\n",
    "\n",
    "Here's a simplified explanation of the differences between **short-term memory** and **long-term memory** in **LangGraph**:\n",
    "\n",
    "#### Short-term memory\n",
    "- **Scope:**  \n",
    "  Works only **within the current session or thread**.  \n",
    "  Once the session ends, the memory is cleared.  \n",
    "\n",
    "- **Use case:**  \n",
    "  It’s like remembering what has been said **during the conversation**.  \n",
    "  Useful for **tracking context** as the conversation flows.  \n",
    "\n",
    "- **LangGraph usage:**  \n",
    "  Uses **Checkpointers** to **save and restore** the conversation state during the session.  \n",
    "\n",
    "#### Long-term memory\n",
    "- **Scope:**  \n",
    "  Works **across multiple sessions or threads**.  \n",
    "  Even after the session ends, it **remembers key information** for the future.  \n",
    "\n",
    "- **Use case:**  \n",
    "  It’s like **remembering facts about the user** (e.g., their name or preferences) that should persist **between conversations**.  \n",
    "\n",
    "- **LangGraph usage:**  \n",
    "  Uses **Store** to **save data permanently** for later retrieval.  \n",
    "\n",
    "#### Analogy\n",
    "- **Short-term memory** is like keeping notes on a **whiteboard** that you erase at the end of the meeting.  \n",
    "- **Long-term memory** is like saving important information in a **notebook** that you can revisit anytime."
   ]
  },
  {
   "cell_type": "markdown",
   "id": "359785fd-386b-4870-8e5c-7922b6f66f55",
   "metadata": {},
   "source": [
    "## Types of long-term memory\n",
    "Here’s a simple explanation of the **types of long-term memory** in **LangGraph**:\n",
    "\n",
    "#### Semantic Memory – \"Facts about the user\"  \n",
    "- **Purpose:** Stores **general information** about the user.  \n",
    "- **Examples:**\n",
    "  - User’s **name, preferences, or goals**.  \n",
    "  - A **list of uploaded documents** or resources.  \n",
    "- **Analogy:** It’s like a **profile or database** that keeps track of important facts about the user.  \n",
    "\n",
    "#### Episodic Memory – \"Agent's past actions or events\"  \n",
    "- **Purpose:** Remembers **specific events** or actions taken in the past.  \n",
    "- **Examples:**\n",
    "  - What **questions the user asked** in a previous session.  \n",
    "  - The **steps or solutions** the agent provided earlier.  \n",
    "- **Analogy:** It’s like a **journal** that logs key moments in the user’s interactions.  \n",
    "\n",
    "#### Procedural Memory – \"Agent's system prompt\"  \n",
    "- **Purpose:** Stores the **rules and instructions** the agent follows.  \n",
    "- **Examples:**\n",
    "  - The agent’s **system prompt**, which defines how it should respond or behave.  \n",
    "  - **Workflow templates** for handling specific tasks.  \n",
    "- **Analogy:** It’s like the agent’s **training manual** or **playbook** that guides its actions. "
   ]
  },
  {
   "cell_type": "markdown",
   "id": "a21cf97a-7548-4b3f-b7de-802cbedc8208",
   "metadata": {},
   "source": [
    "## Long-term memory options\n",
    "\n",
    "Here’s a simple explanation of the **long-term memory options** in **LangGraph**:\n",
    "\n",
    "#### Hot-path Memory – \"Real-time updates\"  \n",
    "- **Type:**  \n",
    "  Works **during runtime**, meaning it updates memory **immediately** as the conversation happens.  \n",
    "\n",
    "- **Pros:**  \n",
    "  - Feels **transparent** to the user because updates are **instant**.  \n",
    "  - Memory is always **up-to-date** within the session.  \n",
    "\n",
    "- **Cons:**  \n",
    "  - Might **slow down responses** if too much data is processed in real-time.  \n",
    "  - Could affect the **user experience (UX)** if latency becomes noticeable.\n",
    "\n",
    "#### Background Memory – \"Updates later, in batches\"  \n",
    "- **Type:**  \n",
    "  Works in a **separate process**, updating memory **after the interaction** instead of immediately.  \n",
    "\n",
    "- **Pros:**  \n",
    "  - Reduces the risk of **slowing down responses** during the conversation.  \n",
    "  - **Better UX** because updates happen **silently** in the background.  \n",
    "\n",
    "- **Cons:**  \n",
    "  - Needs careful **tuning** to decide **how often** memory updates should happen.  \n",
    "  - Might not be as **immediate**, so some updates could be **delayed**.  \n",
    "\n",
    "#### Quick Analogy:\n",
    "- **Hot-path Memory:** Like taking **notes in real time** during a meeting—you capture everything instantly but might occasionally **pause the flow** to keep up.  \n",
    "- **Background Memory:** Like **recording the meeting** and writing notes **afterward**—less disruptive but requires **extra time** to process later."
   ]
  },
  {
   "cell_type": "code",
   "execution_count": null,
   "id": "b1af248e-6069-44b3-a2cd-a20aa3259874",
   "metadata": {},
   "outputs": [],
   "source": []
  }
 ],
 "metadata": {
  "kernelspec": {
   "display_name": "Python 3 (ipykernel)",
   "language": "python",
   "name": "python3"
  },
  "language_info": {
   "codemirror_mode": {
    "name": "ipython",
    "version": 3
   },
   "file_extension": ".py",
   "mimetype": "text/x-python",
   "name": "python",
   "nbconvert_exporter": "python",
   "pygments_lexer": "ipython3",
   "version": "3.12.5"
  }
 },
 "nbformat": 4,
 "nbformat_minor": 5
}
