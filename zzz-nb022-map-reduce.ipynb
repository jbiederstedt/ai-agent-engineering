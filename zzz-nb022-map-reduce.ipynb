{
 "cells": [
  {
   "cell_type": "markdown",
   "id": "be46161e-45e9-46d7-8214-bcbea10aff2e",
   "metadata": {},
   "source": [
    "# Map-Reduce operations with Send\n",
    "* Map-reduce operations are essential for efficient task decomposition and parallel processing.\n",
    "    * Map: Break a task into smaller sub-tasks, processing each sub-task in parallel.\n",
    "    * Reduce: Aggregate the results across all of the completed, parallelized sub-tasks."
   ]
  },
  {
   "cell_type": "markdown",
   "id": "cb89c20f-6d77-4787-8a68-9d9fad6c02eb",
   "metadata": {},
   "source": [
    "## Ummm... What is a Map-Reduce operation again??? \n",
    "\n",
    "If you are unfamiliar with this name and it sounds confusing to you, do not worry. The real meaning is easier to understand than the weird name. \n",
    "\n",
    "#### Map \n",
    "Think of it as **splitting** a big job into smaller, manageable tasks. Each smaller task can be worked on at the same time (in **parallel**).  \n",
    "\n",
    "Example:  \n",
    "* If you have to count the words in 100 books, you can give 10 books to 10 different people, and each person counts the words in their assigned books.\n",
    "\n",
    "#### Reduce  \n",
    "Once all the smaller tasks are finished, the results are **combined** to produce the final output.  \n",
    "\n",
    "Example:  \n",
    "* The 10 people report their word counts, and you **add up** all the counts to get the total number of words in the 100 books.\n",
    "\n",
    "\n",
    "#### Map-Reduce Processing \n",
    "- **Map**: Divides a big task into smaller tasks.  \n",
    "- **Reduce**: Combines the results of smaller tasks into the final output.\n",
    "\n",
    "This approach saves time by **distributing work** efficiently, especially when dealing with large datasets."
   ]
  },
  {
   "cell_type": "markdown",
   "id": "ca4c390c-2ea8-4ecf-a2a1-640ef2382220",
   "metadata": {},
   "source": [
    "## And how a map-reduce operation is done in LangGraph?\n",
    "In LangGraph, the map-reduce pattern is a method for handling tasks by breaking them into smaller sub-tasks, processing these sub-tasks simultaneously, and then combining the results. This approach is particularly useful when the number of sub-tasks isn't known in advance.\n",
    "\n",
    "#### How It Works\n",
    "\n",
    "1. **Mapping:** Start with a main task that generates a list of items. For example, if given a general topic, the system might produce a list of related subjects.\n",
    "\n",
    "2. **Processing in Parallel:** Each item from the list is then processed independently and at the same time. Continuing the example, for each related subject, the system could generate a joke.\n",
    "\n",
    "3. **Reducing:** After all items have been processed, the results are combined or summarized. In our case, this could involve selecting the best joke from the list of generated jokes.\n",
    "\n",
    "#### Challenges Addressed\n",
    "\n",
    "- **Unknown Number of Sub-Tasks:** Since the number of items (like related subjects) may not be known beforehand, it's challenging to set up the workflow in advance.\n",
    "\n",
    "- **Dynamic Input States:** Each sub-task might require a different input, necessitating a system that can handle varying inputs dynamically.\n",
    "\n",
    "#### The LangGraph's Solution: using Send\n",
    "\n",
    "As we will see below, **LangGraph uses the built-in Send API to manage these challenges**. By employing conditional edges, the Send function can distribute different inputs to multiple instances of a processing node. This means each sub-task can receive a unique input, allowing for flexible and dynamic workflow management.\n",
    "\n",
    "This map-reduce approach in LangGraph enables efficient task decomposition and parallel processing, making it easier to handle complex workflows where the number of sub-tasks isn't predetermined. "
   ]
  },
  {
   "cell_type": "markdown",
   "id": "86b7fdeb-2543-4280-be25-8e962552530c",
   "metadata": {},
   "source": [
    "## Setup"
   ]
  },
  {
   "cell_type": "markdown",
   "id": "871e0018-cba4-4959-881a-0a65093d202d",
   "metadata": {},
   "source": [
    "#### After you download the code from the github repository in your computer\n",
    "In terminal:\n",
    "* cd project_name\n",
    "* pyenv local 3.11.4\n",
    "* poetry install\n",
    "* poetry shell"
   ]
  },
  {
   "cell_type": "markdown",
   "id": "4065e336-d054-412c-8a3f-1fbec63e1bcd",
   "metadata": {},
   "source": [
    "#### To open the notebook with Jupyter Notebooks\n",
    "In terminal:\n",
    "* jupyter lab\n",
    "\n",
    "Go to the folder of notebooks and open the right notebook."
   ]
  },
  {
   "cell_type": "markdown",
   "id": "62dda8d4-80cf-4b8f-9981-94edda5e9911",
   "metadata": {},
   "source": [
    "#### To see the code in Virtual Studio Code or your editor of choice.\n",
    "* open Virtual Studio Code or your editor of choice.\n",
    "* open the project-folder\n",
    "* open the 022-map-reduce.py file"
   ]
  },
  {
   "cell_type": "markdown",
   "id": "af743328-1bc8-4b01-85fb-fcb21c6499c2",
   "metadata": {},
   "source": [
    "## Create your .env file\n",
    "* In the github repo we have included a file named .env.example\n",
    "* Rename that file to .env file and here is where you will add your confidential api keys. Remember to include:\n",
    "* OPENAI_API_KEY=your_openai_api_key\n",
    "* LANGCHAIN_TRACING_V2=true\n",
    "* LANGCHAIN_ENDPOINT=https://api.smith.langchain.com\n",
    "* LANGCHAIN_API_KEY=your_langchain_api_key\n",
    "* LANGCHAIN_PROJECT=your_project_name"
   ]
  },
  {
   "cell_type": "markdown",
   "id": "863dd299-0780-49ad-a1b7-b76e249350da",
   "metadata": {},
   "source": [
    "We will call our LangSmith project **001-langgraph**."
   ]
  },
  {
   "cell_type": "markdown",
   "id": "40e766aa-f3e2-491f-be99-d0c6b700d47a",
   "metadata": {},
   "source": [
    "## Track operations\n",
    "From now on, we can track the operations **and the cost** of this project from LangSmith:\n",
    "* [smith.langchain.com](https://smith.langchain.com)"
   ]
  },
  {
   "cell_type": "markdown",
   "id": "4f99504a-1b8f-4360-b342-0b81ffa06aff",
   "metadata": {},
   "source": [
    "## Connect with the .env file located in the same directory of this notebook"
   ]
  },
  {
   "cell_type": "markdown",
   "id": "e39e5789-5bde-42e1-88dd-92dc8e363c24",
   "metadata": {},
   "source": [
    "If you are using the pre-loaded poetry shell, you do not need to install the following package because it is already pre-loaded for you:"
   ]
  },
  {
   "cell_type": "code",
   "execution_count": 1,
   "id": "c5514113-ddca-4ae9-9de6-0b9225b18f3c",
   "metadata": {},
   "outputs": [],
   "source": [
    "#pip install python-dotenv"
   ]
  },
  {
   "cell_type": "code",
   "execution_count": 2,
   "id": "fecd39d0-e72e-4bc2-8a68-2fa4008ea365",
   "metadata": {},
   "outputs": [],
   "source": [
    "import os\n",
    "from dotenv import load_dotenv, find_dotenv\n",
    "_ = load_dotenv(find_dotenv())\n",
    "openai_api_key = os.environ[\"OPENAI_API_KEY\"]"
   ]
  },
  {
   "cell_type": "markdown",
   "id": "03f4a923-b19e-498e-9be5-e47ec4a77d80",
   "metadata": {},
   "source": [
    "#### Install LangChain"
   ]
  },
  {
   "cell_type": "markdown",
   "id": "9fef1e5c-b7e2-4a04-96c5-8f64377b8eba",
   "metadata": {},
   "source": [
    "If you are using the pre-loaded poetry shell, you do not need to install the following package because it is already pre-loaded for you:"
   ]
  },
  {
   "cell_type": "code",
   "execution_count": 3,
   "id": "c1cf94ae-6c39-4475-9c5b-4b74d8d78753",
   "metadata": {},
   "outputs": [],
   "source": [
    "#!pip install langchain"
   ]
  },
  {
   "cell_type": "markdown",
   "id": "189e9e17-dfb0-4fd3-85b9-1fba83771941",
   "metadata": {},
   "source": [
    "## Connect with an LLM"
   ]
  },
  {
   "cell_type": "markdown",
   "id": "b21d23f4-61f5-4227-8a75-7eefde6680ee",
   "metadata": {},
   "source": [
    "If you are using the pre-loaded poetry shell, you do not need to install the following package because it is already pre-loaded for you:"
   ]
  },
  {
   "cell_type": "code",
   "execution_count": 4,
   "id": "148df8e0-361d-4ddd-8709-af48fa1648d1",
   "metadata": {},
   "outputs": [],
   "source": [
    "#!pip install langchain-openai"
   ]
  },
  {
   "cell_type": "code",
   "execution_count": 5,
   "id": "df978ec5-bfd2-4167-bd33-86bc2687d1cb",
   "metadata": {},
   "outputs": [],
   "source": [
    "from langchain_openai import ChatOpenAI\n",
    "\n",
    "chatModel35 = ChatOpenAI(model=\"gpt-3.5-turbo-0125\")\n",
    "chatModel4o = ChatOpenAI(model=\"gpt-4o\")"
   ]
  },
  {
   "cell_type": "markdown",
   "id": "d2690994-1b84-43f9-a8bf-d10036971be4",
   "metadata": {},
   "source": [
    "## Basic Map-Reduce operation example: A Joke Generator App\n",
    "\n",
    "#### The map-reduce process\n",
    "We will design an app that will do two things:\n",
    "* Create a set of jokes from subjects or sub-topics related to a topic (map operation).\n",
    "* Pick the best joke from the list (reduce operation).\n",
    "\n",
    "#### The app workflow will be:\n",
    "* The user will input a topic.\n",
    "* The app will generate a list of subjects or sub-topics related to the topic.\n",
    "* The app will generate a joke for each subject.\n",
    "* The app will select the best joke generated."
   ]
  },
  {
   "cell_type": "markdown",
   "id": "74fb3d15-ac48-4c7e-bc72-2a75b2f74754",
   "metadata": {},
   "source": [
    "## Let's start by creating the prompts we will use with the LLM"
   ]
  },
  {
   "cell_type": "code",
   "execution_count": 6,
   "id": "b4f3e2e3-5f7f-458d-ac64-eba955b01ada",
   "metadata": {},
   "outputs": [],
   "source": [
    "from langchain_openai import ChatOpenAI\n",
    "\n",
    "# Prompts we will use\n",
    "subjects_prompt = \"\"\"Generate a list of 3 sub-topics that are all related to this overall topic: {topic}.\"\"\"\n",
    "joke_prompt = \"\"\"Generate a joke about {subject}\"\"\"\n",
    "best_joke_prompt = \"\"\"Below are a bunch of jokes about {topic}. Select the best one! Return the ID of the best one, starting 0 as the ID for the first joke. Jokes: \\n\\n  {jokes}\"\"\"\n",
    "\n",
    "# LLM\n",
    "model = ChatOpenAI(model=\"gpt-4o\") "
   ]
  },
  {
   "cell_type": "markdown",
   "id": "d06d5fc1-55e4-4b2e-8bbe-1c46d689529e",
   "metadata": {},
   "source": [
    "## Let's now define the schemas that will define the format of the Subjects, BestJoke, and OverallState"
   ]
  },
  {
   "cell_type": "code",
   "execution_count": 7,
   "id": "d0b0f650-8c60-4c4c-832c-34ca67accbdf",
   "metadata": {},
   "outputs": [],
   "source": [
    "import operator\n",
    "from typing import Annotated\n",
    "from typing_extensions import TypedDict\n",
    "from pydantic import BaseModel\n",
    "\n",
    "class Subjects(BaseModel):\n",
    "    subjects: list[str]\n",
    "\n",
    "class BestJoke(BaseModel):\n",
    "    id: int\n",
    "\n",
    "# PAY ATTENTION HERE: The `jokes` key will append the jokes.\n",
    "# See how we are using the operator.add reducer.\n",
    "class OverallState(TypedDict):\n",
    "    topic: str\n",
    "    subjects: list\n",
    "    jokes: Annotated[list, operator.add]\n",
    "    best_selected_joke: str"
   ]
  },
  {
   "cell_type": "markdown",
   "id": "278a727b-f7a4-4c78-a6e4-535c696e3c78",
   "metadata": {},
   "source": [
    "## Now we will define the function to generate subjects or sub-topics related to the topic submitted by the user"
   ]
  },
  {
   "cell_type": "code",
   "execution_count": 8,
   "id": "3494781b-094f-476b-93cd-f7d9b4511b25",
   "metadata": {},
   "outputs": [],
   "source": [
    "# We are asking the LLM to generate subjects related with the topic\n",
    "def generate_subjects(state: OverallState):\n",
    "    prompt = subjects_prompt.format(topic=state[\"topic\"])\n",
    "    response = model.with_structured_output(Subjects).invoke(prompt)\n",
    "    return {\"subjects\": response.subjects}"
   ]
  },
  {
   "cell_type": "markdown",
   "id": "fd65e97f-7c39-4bd4-921a-957ed3cc7081",
   "metadata": {},
   "source": [
    "## Let's explain the previous code in simple terms\n",
    "Here’s a simple explanation of the previous code:\n",
    "\n",
    "1. **Purpose**: The function `generate_subjects` is designed to use a LLM (referred to as `model`) to generate a list of subjects related to a given topic.\n",
    "\n",
    "2. **Input**: It takes in a single argument called `state`, which is a dictionary-like object (`OverallState`). This `state` contains a key `\"topic\"` that specifies the main topic for which related subjects should be generated.\n",
    "\n",
    "3. **Steps**:\n",
    "   - **Create a Prompt**: The `subjects_prompt.format(topic=state[\"topic\"])` takes a predefined prompt template (`subjects_prompt`) and fills in the topic from the `state`.\n",
    "   - **Ask the Model**: The LLM (`model`) is used to process this prompt. The method `with_structured_output(Subjects).invoke(prompt)` ensures the model's response is structured and follows a specific format defined in `Subjects`.\n",
    "   - **Extract Subjects**: From the model's response, the `subjects` field is extracted.\n",
    "\n",
    "4. **Output**: The function returns a dictionary with a single key, `\"subjects\"`, containing the list of subjects generated by the model.\n",
    "\n",
    "#### Example:\n",
    "\n",
    "If the topic in `state[\"topic\"]` is `\"climate change\"`, the function:\n",
    "1. Formats a prompt like: \"Generate a list of subjects related to climate change.\"\n",
    "2. Sends this prompt to the model.\n",
    "3. Receives and processes the model's response (e.g., `[\"Global Warming\", \"Renewable Energy\", \"Carbon Footprint\"]`).\n",
    "4. Returns: `{\"subjects\": [\"Global Warming\", \"Renewable Energy\", \"Carbon Footprint\"]}`."
   ]
  },
  {
   "cell_type": "markdown",
   "id": "15bae6c3-5305-448d-8963-7fb20c6b737f",
   "metadata": {},
   "source": [
    "## Once we have the list of subjects, we will use Send to create a joke for each subject\n",
    "\n",
    "In simple terms, the **`Send`** function in LangGraph is used to dynamically send data (called **state**) to specific nodes in a workflow, even when you don't know in advance how many nodes you'll need or what data each node will receive.  \n",
    "\n",
    "#### Example Scenario:  \n",
    "Imagine you have a process where:  \n",
    "1. **Node A** creates a list of subjects (e.g., [\"cats\", \"dogs\", \"robots\"]).  \n",
    "2. You want to send each subject to another node (**\"generate_joke\"**) that generates a joke about that subject.  \n",
    "\n",
    "However, you don't know how many subjects there will be ahead of time.  \n",
    "\n",
    "#### What Does `Send` Do?  \n",
    "- It lets you create as many connections as needed **on the fly** (instead of predefining them).  \n",
    "- Each connection can have its **own data** (each particular subject).  \n",
    "\n",
    "#### Step 1: using a conditional edge, connect the \"Node A\" with \"the Send Magic\".\n",
    "```python\n",
    "graph.add_conditional_edges(\"node_a\", continue_to_jokes)\n",
    "```\n",
    "- **Connects the \"node a\" to the \"generate_joke\" node dynamically, creating a joke from the associated subject**. \n",
    "\n",
    "#### Step 2: \"the Send Magic\" creates as many generate_joke parallel nodes as many subjects were generated by the Node A\n",
    "```python\n",
    "def continue_to_jokes(state: OverallState):\n",
    "    return [Send(\"generate_joke\", {\"subject\": s}) for s in state['subjects']]\n",
    "```\n",
    "- This function takes the state (e.g., a list of subjects).  \n",
    "- It creates a Send object **for each subject, telling it**:  \n",
    "  1. **Go to the `generate_joke` node**.  \n",
    "  2. **Pass a specific subject (e.g., {\"subject\": \"cats\"}) as input**.   \n",
    "\n",
    "#### Key Idea:\n",
    "**Instead of defining fixed connections, `Send` allows the workflow to adapt based on the data at runtime**. This is especially useful for tasks like processing lists or batches of data.\n",
    "\n",
    "#### How we will use Send in our exercise\n",
    "* We will use [Send](https://langchain-ai.github.io/langgraph/concepts/low_level/#send) to create a joke for each subject. **This can automatically parallelize joke generation for any number of subjects**.\n",
    "    * `generate_joke`: the name of the node in the graph\n",
    "    * `{\"subject\": s`}: the state to send"
   ]
  },
  {
   "cell_type": "code",
   "execution_count": 9,
   "id": "8f1bb3df-06a7-4145-a8b9-a7f64cf4bbf1",
   "metadata": {},
   "outputs": [],
   "source": [
    "from langgraph.constants import Send\n",
    "\n",
    "def continue_to_jokes(state: OverallState):\n",
    "    return [Send(\"generate_joke\", {\"subject\": s}) for s in state[\"subjects\"]]"
   ]
  },
  {
   "cell_type": "markdown",
   "id": "7264e65f-2c54-46cc-a597-d11c970de8ac",
   "metadata": {},
   "source": [
    "## Explanation of the previous code in simple terms\n",
    "The code defines a function called **`continue_to_jokes`** that takes some input data (**state**) and prepares instructions to send each item in the data to a specific processing step.\n",
    "\n",
    "#### Breaking it down:\n",
    "1. **Input: `state`**  \n",
    "   - The input, called **`state`**, contains data organized like a dictionary.  \n",
    "   - It has a key called **\"subjects\"**, which is expected to be a **list** (e.g., `[\"cats\", \"dogs\", \"robots\"]`).\n",
    "\n",
    "2. **Output: List of `Send` objects**  \n",
    "   - For each subject in the list, the function creates a **`Send`** object.  \n",
    "   - Each **`Send`** object specifies:  \n",
    "     1. Go to the **\"generate_joke\"** node (a step in the workflow).  \n",
    "     2. Pass a specific **subject** as input, like `{\"subject\": \"cats\"}`.\n",
    "\n",
    "3. **Purpose**  \n",
    "   - The function is used to **dynamically route data**.  \n",
    "   - If there are 3 subjects in the list, it creates 3 `Send` instructions—one for each subject—telling the system to process each item individually.\n",
    "\n",
    "#### Example:  \n",
    "If **state[\"subjects\"] = [\"cats\", \"dogs\"]**, the output will be:  \n",
    "```\n",
    "[\n",
    "    Send(\"generate_joke\", {\"subject\": \"cats\"}),  \n",
    "    Send(\"generate_joke\", {\"subject\": \"dogs\"})\n",
    "]\n",
    "```\n",
    "\n",
    "This allows the workflow to handle multiple inputs (subjects) in parallel, sending each one to the **\"generate_joke\"** node for processing."
   ]
  },
  {
   "cell_type": "markdown",
   "id": "235f0633-0d2f-4e04-9216-9cdea584fbd7",
   "metadata": {},
   "source": [
    "## Ooops! But we still have not defined the joke creator function. Let's do it now.\n",
    "* We will define a node that will create our jokes, `generate_joke`.\n",
    "* We will return them as `jokes` in `OverallState`.\n",
    "* This key has a reducer that will combine lists."
   ]
  },
  {
   "cell_type": "code",
   "execution_count": 10,
   "id": "0586732f-51bd-4971-9319-c40216598ed1",
   "metadata": {},
   "outputs": [],
   "source": [
    "class JokeState(TypedDict):\n",
    "    subject: str\n",
    "\n",
    "class Joke(BaseModel):\n",
    "    joke: str\n",
    "\n",
    "# PAY ATTENTION HERE: we ask the LLM to generate a joke about a subject\n",
    "def generate_joke(state: JokeState):\n",
    "    prompt = joke_prompt.format(subject=state[\"subject\"])\n",
    "    response = model.with_structured_output(Joke).invoke(prompt)\n",
    "    return {\"jokes\": [response.joke]}"
   ]
  },
  {
   "cell_type": "markdown",
   "id": "3a6f9352-4cad-437e-8953-8f08b29a1412",
   "metadata": {},
   "source": [
    "## Let's explain the previos code in simple terms\n",
    "The previous code defines how to generate a joke about a specific subject using an LLM. Let me break it down step by step:\n",
    "\n",
    "#### Defining Data Structures\n",
    "- `JokeState` and `Joke` are like blueprints for organizing data.\n",
    "\n",
    "  - `JokeState` tells us that we need a dictionary (or an object) with a key called `subject` that holds a string. For example:\n",
    "    ```python\n",
    "    state = {\"subject\": \"cats\"}\n",
    "    ```\n",
    "  \n",
    "  - `Joke` defines the expected output format: it contains a single key, `joke`, which is also a string. For example:\n",
    "    ```python\n",
    "    {\"joke\": \"Why did the cat sit on the computer? To keep an eye on the mouse!\"}\n",
    "    ```\n",
    "\n",
    "#### The `generate_joke` Function\n",
    "This is the main function that creates a joke based on the given subject. Here’s what happens inside:\n",
    "\n",
    "1. **Getting the subject**:\n",
    "   - The `state` parameter is expected to contain the subject for the joke (like `\"cats\"`).\n",
    "   \n",
    "2. **Preparing a prompt**:\n",
    "   - The variable `prompt` is created using a pre-defined template (`joke_prompt`), where the subject is inserted. For example, if `state[\"subject\"]` is `\"cats\"`, the prompt would look like:\n",
    "     ```python\n",
    "     \"Tell me a funny joke about cats.\"\n",
    "     ```\n",
    "\n",
    "3. **Calling the Language Model (LLM)**:\n",
    "   - The `model.with_structured_output(Joke).invoke(prompt)` sends the prompt to the LLM.\n",
    "   - The LLM generates a response that matches the `Joke` structure, ensuring it returns a dictionary with a `joke` key.\n",
    "\n",
    "4. **Returning the Joke**:\n",
    "   - The response from the LLM is wrapped in another dictionary under the key `\"jokes\"`, so the final output might look like:\n",
    "     ```python\n",
    "     {\"jokes\": [\"Why did the cat sit on the computer? To keep an eye on the mouse!\"]}\n",
    "     ```\n",
    "\n",
    "#### In Summary\n",
    "- The function takes a subject (e.g., `\"cats\"`).\n",
    "- It creates a prompt asking the LLM to generate a joke about that subject.\n",
    "- The LLM responds with a joke.\n",
    "- The function returns the joke in a structured format."
   ]
  },
  {
   "cell_type": "markdown",
   "id": "ef26be68-b6dc-482f-8c2f-6674d7dd819d",
   "metadata": {},
   "source": [
    "## And, finally, let's define the fuction to select the best joke"
   ]
  },
  {
   "cell_type": "code",
   "execution_count": 11,
   "id": "656d3f71-c579-42f4-9cc5-47ec22739f8a",
   "metadata": {},
   "outputs": [],
   "source": [
    "# PAY ATTENTION HERE: we ask the LLM to select the best joke\n",
    "def best_joke(state: OverallState):\n",
    "    jokes = \"\\n\\n\".join(state[\"jokes\"])\n",
    "    prompt = best_joke_prompt.format(topic=state[\"topic\"], jokes=jokes)\n",
    "    response = model.with_structured_output(BestJoke).invoke(prompt)\n",
    "    return {\"best_selected_joke\": state[\"jokes\"][response.id]}"
   ]
  },
  {
   "cell_type": "markdown",
   "id": "add83d0d-51e5-47b7-8fbd-b3af4a0067dd",
   "metadata": {},
   "source": [
    "## OK. Let's review what we just did\n",
    "The previous code defines a function that helps pick the best joke from a list of jokes using a language model (LLM). Let’s break it down step by step:\n",
    "\n",
    "\n",
    "#### Input Data (`state`)\n",
    "- The function works with a dictionary called `state` (which follows the `OverallState` structure). It contains two key pieces of information:\n",
    "  1. **`state[\"jokes\"]`**: A list of jokes (e.g., `[\"Why did the chicken cross the road? To get to the other side!\", \"What do you call fake spaghetti? An impasta!\"]`).\n",
    "  2. **`state[\"topic\"]`**: The topic the jokes are related to (e.g., `\"animals\"`).\n",
    "\n",
    "\n",
    "#### Joining the Jokes\n",
    "- The jokes from `state[\"jokes\"]` are combined into a single string, separated by double newlines (`\\n\\n`). For example:\n",
    "  ```python\n",
    "  jokes = \"Why did the chicken cross the road? To get to the other side!\\n\\nWhat do you call fake spaghetti? An impasta!\"\n",
    "  ```\n",
    "\n",
    "\n",
    "#### Creating the Prompt\n",
    "- The function builds a prompt using a template (`best_joke_prompt`) to ask the LLM which joke is the best. It includes:\n",
    "  - The **topic** of the jokes.\n",
    "  - The **list of jokes**.\n",
    "\n",
    "The prompt would be something like:\n",
    "  ```text\n",
    "  \"Here are some jokes about animals:\n",
    "  \n",
    "  1. Why did the chicken cross the road? To get to the other side!\n",
    "  \n",
    "  2. What do you call fake spaghetti? An impasta!\n",
    "  \n",
    "  Which joke is the best? Respond with the joke number.\"\n",
    "  ```\n",
    "\n",
    "\n",
    "#### Asking the LLM\n",
    "- The `model.with_structured_output(BestJoke).invoke(prompt)` sends the prompt to the LLM and asks it to select the best joke. \n",
    "- The `BestJoke` structure ensures the response includes an `id`, which identifies the number or position of the selected joke.\n",
    "\n",
    "\n",
    "#### Returning the Best Joke\n",
    "- The function takes the `id` from the LLM’s response and uses it to look up the corresponding joke in the `state[\"jokes\"]` list.\n",
    "- The best joke is returned in a dictionary under the key `\"best_selected_joke\"`. For example:\n",
    "  ```python\n",
    "  {\"best_selected_joke\": \"Why did the chicken cross the road? To get to the other side!\"}\n",
    "  ```\n",
    "\n",
    "\n",
    "#### In Summary\n",
    "- The function takes a list of jokes and a topic.\n",
    "- It asks the LLM to pick the best joke by providing a clear prompt.\n",
    "- It returns the selected joke in an easy-to-use format."
   ]
  },
  {
   "cell_type": "markdown",
   "id": "14772711-8682-47f7-b622-4b95871cb097",
   "metadata": {},
   "source": [
    "## OK. Let's now put it all together in our app"
   ]
  },
  {
   "cell_type": "code",
   "execution_count": 12,
   "id": "f0c58107-485e-46f7-8484-8b984f2b38f3",
   "metadata": {},
   "outputs": [
    {
     "data": {
      "image/png": "[encoded data removed]",
      "text/plain": [
       "<IPython.core.display.Image object>"
      ]
     },
     "execution_count": 12,
     "metadata": {},
     "output_type": "execute_result"
    }
   ],
   "source": [
    "from IPython.display import Image\n",
    "from langgraph.graph import END, StateGraph, START\n",
    "\n",
    "# Construct the graph: here we put everything together to construct our graph\n",
    "graph = StateGraph(OverallState)\n",
    "\n",
    "# Node to generate subjects related to the topic\n",
    "graph.add_node(\"generate_subjects\", generate_subjects)\n",
    "\n",
    "# Node to generate a joke about a subject\n",
    "graph.add_node(\"generate_joke\", generate_joke)\n",
    "\n",
    "# Node to select the best joke\n",
    "graph.add_node(\"best_joke\", best_joke)\n",
    "\n",
    "graph.add_edge(START, \"generate_subjects\")\n",
    "\n",
    "# PAY ATTENTION HERE: see how we use the continue_to_jokes function we created with Send\n",
    "graph.add_conditional_edges(\"generate_subjects\", continue_to_jokes, [\"generate_joke\"])\n",
    "\n",
    "graph.add_edge(\"generate_joke\", \"best_joke\")\n",
    "graph.add_edge(\"best_joke\", END)\n",
    "\n",
    "# Compile the graph\n",
    "app = graph.compile()\n",
    "Image(app.get_graph().draw_mermaid_png())"
   ]
  },
  {
   "cell_type": "markdown",
   "id": "75cebb41-fa5e-4e1b-a27a-90a5ed32077b",
   "metadata": {},
   "source": [
    "## Let's review what is going on under the hood in this app\n",
    "The app defines a **map-reduce workflow** in LangGraph to generate and evaluate jokes based on a given topic. Here's a simplified explanation broken down step-by-step:\n",
    "\n",
    "#### Purpose of the Code\n",
    "The code builds a **graph-based workflow** to:\n",
    "1. Generate a list of subtopics related to a given topic (**map** step).  \n",
    "2. Create a joke for each subtopic (**map** step).  \n",
    "3. Select the best joke from the generated ones (**reduce** step).  \n",
    "\n",
    "#### Key Components\n",
    "\n",
    "1. **Inputs and Outputs**:\n",
    "   - **Input**: A topic provided by the user (e.g., \"Technology\").  \n",
    "   - **Output**: The best joke related to that topic.\n",
    "\n",
    "2. **Model Setup**:\n",
    "   - Uses the selected LLM (in our example chatGPT4) to generate text outputs based on prompts.\n",
    "\n",
    "3. **Data Models**:\n",
    "   - **Subjects**: Holds the list of subtopics generated.  \n",
    "   - **Joke**: Stores a joke for a specific subtopic.  \n",
    "   - **BestJoke**: Keeps track of the ID of the best joke selected.\n",
    "\n",
    "4. **State Management**:\n",
    "   - **OverallState**: Tracks the topic, generated subjects, jokes, and the best-selected joke.  \n",
    "   - **JokeState**: Tracks the specific subject while generating a joke.\n",
    "\n",
    "#### Workflow Breakdown\n",
    "\n",
    "1. **Subjects Generation** (Mapping Step):\n",
    "   - **Function**: `generate_subjects()`\n",
    "   - Generates 3 subtopics based on the main topic using the AI model.\n",
    "\n",
    "2. **Joke Generation** (Mapping Step):\n",
    "   - **Function**: `generate_joke()`\n",
    "   - Creates a joke for each subtopic.  \n",
    "   - Uses parallel processing, meaning all jokes are generated simultaneously.\n",
    "\n",
    "3. **Dynamic Mapping**:\n",
    "   - **Function**: `continue_to_jokes()`\n",
    "   - Dynamically maps each generated subtopic to the joke creation node, even if the number of subtopics is unknown beforehand.\n",
    "\n",
    "4. **Best Joke Selection** (Reduce Step):\n",
    "   - **Function**: `best_joke()`\n",
    "   - Combines all generated jokes and evaluates them to find the best one.  \n",
    "\n",
    "#### Graph Construction\n",
    "\n",
    "- **Nodes**: Represent tasks like generating topics, creating jokes, and selecting the best joke.  \n",
    "- **Edges**: Define transitions between tasks.  \n",
    "- **Dynamic Mapping**: Allows variable-length inputs (e.g., multiple subtopics) to be handled without predefining their count.  \n",
    "\n",
    "#### Key Concepts in Action\n",
    "\n",
    "- **Map Phase**:  \n",
    "  - Breaks down the topic into subjects or subtopics (mapping) and processes each subtopic in parallel to generate jokes.\n",
    "\n",
    "- **Reduce Phase**:  \n",
    "  - Combines results (jokes) and selects the best one.\n",
    "\n",
    "- **Flexibility**:  \n",
    "  - Handles unknown numbers of subtopics dynamically using conditional edges.\n",
    "\n",
    "#### Real-World Analogy\n",
    "\n",
    "Imagine you want to prepare a comedy show based on a theme.  \n",
    "1. **Topic**: \"Technology.\"  \n",
    "2. **Step 1 (Map)**: Brainstorm related subjects like \"AI,\" \"Smartphones,\" and \"Robots.\"  \n",
    "3. **Step 2 (Map)**: Write jokes about each subject.  \n",
    "4. **Step 3 (Reduce)**: Select the funniest joke to tell at the show.\n",
    "\n",
    "#### Final Output\n",
    "\n",
    "The graph executes these steps, processes each stage, and outputs the **best joke** related to the given topic."
   ]
  },
  {
   "cell_type": "markdown",
   "id": "00af3c49-9b45-42cd-a3d4-2c7cd4128391",
   "metadata": {},
   "source": [
    "## Let's pay attention to the line where we activate the Send Magic in the previous code\n",
    "In the previous code, it is important to understand the line where we are activating the \"Send Magic\":\n",
    "\n",
    "```python\n",
    "graph.add_conditional_edges(\"generate_subjects\", continue_to_jokes, [\"generate_joke\"])\n",
    "```\n",
    "\n",
    "#### Explanation\n",
    "Here's a breakdown of its components:\n",
    "\n",
    "1. **`graph.add_conditional_edges`**:\n",
    "   - This function defines edges in the state graph that are created dynamically based on some condition or computation. Unlike a static edge (e.g., `graph.add_edge`), conditional edges depend on the result of a user-defined function, which is evaluated at runtime.\n",
    "\n",
    "2. **`\"generate_subjects\"`**:\n",
    "   - This is the source node in the graph. After this node is processed, the graph evaluates the `continue_to_jokes` function to determine what happens next.\n",
    "\n",
    "3. **`continue_to_jokes`**:\n",
    "   - This is the custom function provided to determine the conditional edges. It takes the current `state` as input (an instance of `OverallState`) and returns a list of `Send` instructions.\n",
    "   - Each `Send` specifies the next node (\"generate_joke\") and the associated payload (data to pass to the node). Specifically, for every subject in the `state[\"subjects\"]` list, a `Send` is created that includes the subject as part of the payload.\n",
    "\n",
    "   Here's the `continue_to_jokes` function:\n",
    "   ```python\n",
    "   def continue_to_jokes(state: OverallState):\n",
    "       return [Send(\"generate_joke\", {\"subject\": s}) for s in state[\"subjects\"]]\n",
    "   ```\n",
    "   - **`Send(\"generate_joke\", {\"subject\": s})`**:\n",
    "     This instructs the graph to send control to the `generate_joke` node, passing a dictionary `{\"subject\": s}` as the input data, where `s` is each subject in the `state[\"subjects\"]` list.\n",
    "\n",
    "4. **`[\"generate_joke\"]`**:\n",
    "   - **This is the list of potential target nodes for the conditional edges**. In this case, it's only one target node, `\"generate_joke\"`, where the function `generate_joke` will handle the payload sent by each `Send`.\n",
    "\n",
    "#### What Happens in Practice\n",
    "- After the `\"generate_subjects\"` node runs, it populates the state with a list of subjects (`state[\"subjects\"]`).\n",
    "- The `continue_to_jokes` function is invoked, creating a `Send` instruction for each subject in the list.\n",
    "- Each `Send` dynamically creates an edge leading to the `\"generate_joke\"` node, passing the corresponding subject as input.\n",
    "- **The graph then processes the `\"generate_joke\"` node multiple times—once for each subject—generating jokes for all the subjects**.\n",
    "\n",
    "#### Visual Analogy\n",
    "Imagine `\"generate_subjects\"` as a machine that spits out a list of subjects like `[\"cats\", \"dogs\", \"penguins\"]`. The `continue_to_jokes` function acts as a distributor, sending each subject to the `\"generate_joke\"` node separately. For example:\n",
    "- `\"cats\"` → `\"generate_joke\"`\n",
    "- `\"dogs\"` → `\"generate_joke\"`\n",
    "- `\"penguins\"` → `\"generate_joke\"`\n",
    "\n",
    "This ensures that each subject gets processed independently.\n",
    "\n",
    "#### Summary\n",
    "The line of code dynamically connects the `\"generate_subjects\"` node to the `\"generate_joke\"` node for every subject in the `state[\"subjects\"]` list, allowing jokes to be generated for each subject independently."
   ]
  },
  {
   "cell_type": "markdown",
   "id": "8357b5a1-9849-4a3c-a9d7-3837aec0abaf",
   "metadata": {},
   "source": [
    "## And now we can run the app"
   ]
  },
  {
   "cell_type": "code",
   "execution_count": 13,
   "id": "7ad06095-df25-4fc5-b9f6-7126f9b8bd63",
   "metadata": {},
   "outputs": [
    {
     "name": "stdout",
     "output_type": "stream",
     "text": [
      "{'generate_subjects': {'subjects': ['Mammals', 'Reptiles', 'Birds']}}\n",
      "{'generate_joke': {'jokes': [\"Why don't mammals ever use computers? Because they're afraid of the mouse!\"]}}\n",
      "{'generate_joke': {'jokes': [\"Why don't reptiles like fast food?\\nBecause they can't catch it!\"]}}\n",
      "{'generate_joke': {'jokes': [\"Why do seagulls fly over the ocean? Because if they flew over the bay, they'd be called bagels!\"]}}\n",
      "{'best_joke': {'best_selected_joke': \"Why do seagulls fly over the ocean? Because if they flew over the bay, they'd be called bagels!\"}}\n"
     ]
    }
   ],
   "source": [
    "# Call the graph: here we call it to generate a list of jokes\n",
    "for s in app.stream({\"topic\": \"animals\"}):\n",
    "    print(s)"
   ]
  },
  {
   "cell_type": "markdown",
   "id": "dbc24f4f-d23c-4202-992d-91b0623136ae",
   "metadata": {},
   "source": [
    "## How to execute the code from Visual Studio Code\n",
    "* In Visual Studio Code, see the file 022-map-reduce.py\n",
    "* In terminal, make sure you are in the directory of the file and run:\n",
    "    * python 022-map-reduce.py"
   ]
  },
  {
   "cell_type": "code",
   "execution_count": null,
   "id": "b1af248e-6069-44b3-a2cd-a20aa3259874",
   "metadata": {},
   "outputs": [],
   "source": []
  }
 ],
 "metadata": {
  "kernelspec": {
   "display_name": "Python 3 (ipykernel)",
   "language": "python",
   "name": "python3"
  },
  "language_info": {
   "codemirror_mode": {
    "name": "ipython",
    "version": 3
   },
   "file_extension": ".py",
   "mimetype": "text/x-python",
   "name": "python",
   "nbconvert_exporter": "python",
   "pygments_lexer": "ipython3",
   "version": "3.12.5"
  }
 },
 "nbformat": 4,
 "nbformat_minor": 5
}
