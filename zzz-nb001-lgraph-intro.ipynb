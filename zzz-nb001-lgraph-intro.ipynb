{
 "cells": [
  {
   "cell_type": "markdown",
   "id": "b830b505-76b0-494a-9726-5b1e98fdc66c",
   "metadata": {},
   "source": [
    "# LangGraph Intro"
   ]
  },
  {
   "cell_type": "markdown",
   "id": "5442b29d-faf9-44c8-a181-2a3f367bc75f",
   "metadata": {},
   "source": [
    "## Why LangGraph?\n",
    "* The LangChain team realized that AI Agent developers required a framework that gives them more control over the development process."
   ]
  },
  {
   "cell_type": "markdown",
   "id": "6ff1bdbb-96e9-4ab8-8a39-2a65cf9650f4",
   "metadata": {},
   "source": [
    "## What is LangGraph?\n",
    "* LangGraph is a framework different from LangChain and designed for building agentic and multi-agent applications.\n",
    "* LangGraph works very well with LangChain. LangGraph apps usually use many features from LangChain, but you could use LangGraph without LangChain.\n",
    "* Goals:\n",
    "    * Build agents that can reliably handle different types of day-to-day tasks in your work.\n",
    "    * Add precision and control into agentic workflows."
   ]
  },
  {
   "cell_type": "markdown",
   "id": "04011a70-e40a-4b0a-a048-97b938a2de2f",
   "metadata": {},
   "source": [
    "## AI Agents\n",
    "* An AI Agent is a type of LLM Application.\n",
    "* In a non-agent app, the developer sets the steps to follow in order to perform one task.\n",
    "* In an AI Agent, the LLM decides the steps to follow in order to perform one task."
   ]
  },
  {
   "cell_type": "markdown",
   "id": "23281c3c-3979-49fa-a0ca-8496f022e48c",
   "metadata": {},
   "source": [
    "## AI Agents can have different degrees of autonomy\n",
    "* Agents with a low level of autonomy can only decide between a limited number of options. For example, an agent could decide betwen option A or option B using a router.\n",
    "* Agents with a high level of autonomy can  decide between a wide number of steps. For example, an agent could decide all the steps to perform one task."
   ]
  },
  {
   "cell_type": "markdown",
   "id": "1d934803-48d3-4d4b-911a-76ce6ccdceea",
   "metadata": {},
   "source": [
    "## More autonomy means less reliability\n",
    "* Typically, the more autonomy you give to an agent, the less reliable will be the result.\n",
    "* Using LangGraph you will increase the reliability of your agents with high level of autonomy."
   ]
  },
  {
   "cell_type": "markdown",
   "id": "78a7f01d-3a8f-4f46-b9ee-c976aa231e0d",
   "metadata": {},
   "source": [
    "## Usually, developers want to combine control and autonomy for AI Agents.\n",
    "* The developer sets some obligatory steps (for example, the first and the last steps).\n",
    "* The developer allows the LLM to decide the steps to take between the obligatory steps."
   ]
  },
  {
   "cell_type": "markdown",
   "id": "ad019647-090e-42cc-bd82-5fd4c822387a",
   "metadata": {},
   "source": [
    "## A good way of represent the steps of an Agent is using graphs:\n",
    "* Each step is a **node** in the graph.\n",
    "* The connection between two nodes is called **edge**.\n",
    "    * A normal edge goes from node 1 to node 2.\n",
    "    * A conditional edge goes from node 1 to node 2 or 3."
   ]
  },
  {
   "cell_type": "markdown",
   "id": "23db000c-0516-4a9a-9ab1-ef01a5d38775",
   "metadata": {},
   "source": [
    "## LangGraph Studio makes it easy to visualize the workflow of an AI Agent with graphs"
   ]
  },
  {
   "cell_type": "code",
   "execution_count": null,
   "id": "20b3746d-508d-4067-8438-ddd9657e734a",
   "metadata": {},
   "outputs": [],
   "source": []
  }
 ],
 "metadata": {
  "kernelspec": {
   "display_name": "Python 3 (ipykernel)",
   "language": "python",
   "name": "python3"
  },
  "language_info": {
   "codemirror_mode": {
    "name": "ipython",
    "version": 3
   },
   "file_extension": ".py",
   "mimetype": "text/x-python",
   "name": "python",
   "nbconvert_exporter": "python",
   "pygments_lexer": "ipython3",
   "version": "3.12.5"
  }
 },
 "nbformat": 4,
 "nbformat_minor": 5
}
