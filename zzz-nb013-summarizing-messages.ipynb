{
 "cells": [
  {
   "cell_type": "markdown",
   "id": "be46161e-45e9-46d7-8214-bcbea10aff2e",
   "metadata": {},
   "source": [
    "# Advanced ways to work with chatbot messages in LangGraph apps: Memory with summarized messages\n",
    "* To create a summary of the conversation will allow us to retain a compressed representation of the full conversation, rather than just removing it with trimming or filtering."
   ]
  },
  {
   "cell_type": "markdown",
   "id": "8dad4bff-5d8a-4319-b1b4-66791c3394c9",
   "metadata": {},
   "source": [
    "## Setup"
   ]
  },
  {
   "cell_type": "markdown",
   "id": "871e0018-cba4-4959-881a-0a65093d202d",
   "metadata": {},
   "source": [
    "#### After you download the code from the github repository in your computer\n",
    "In terminal:\n",
    "* cd project_name\n",
    "* pyenv local 3.11.4\n",
    "* poetry install\n",
    "* poetry shell"
   ]
  },
  {
   "cell_type": "markdown",
   "id": "4065e336-d054-412c-8a3f-1fbec63e1bcd",
   "metadata": {},
   "source": [
    "#### To open the notebook with Jupyter Notebooks\n",
    "In terminal:\n",
    "* jupyter lab\n",
    "\n",
    "Go to the folder of notebooks and open the right notebook."
   ]
  },
  {
   "cell_type": "markdown",
   "id": "62dda8d4-80cf-4b8f-9981-94edda5e9911",
   "metadata": {},
   "source": [
    "#### To see the code in Virtual Studio Code or your editor of choice.\n",
    "* open Virtual Studio Code or your editor of choice.\n",
    "* open the project-folder\n",
    "* open the 013-summarizing-messages.py file"
   ]
  },
  {
   "cell_type": "markdown",
   "id": "af743328-1bc8-4b01-85fb-fcb21c6499c2",
   "metadata": {},
   "source": [
    "## Create your .env file\n",
    "* In the github repo we have included a file named .env.example\n",
    "* Rename that file to .env file and here is where you will add your confidential api keys. Remember to include:\n",
    "* OPENAI_API_KEY=your_openai_api_key\n",
    "* LANGCHAIN_TRACING_V2=true\n",
    "* LANGCHAIN_ENDPOINT=https://api.smith.langchain.com\n",
    "* LANGCHAIN_API_KEY=your_langchain_api_key\n",
    "* LANGCHAIN_PROJECT=your_project_name"
   ]
  },
  {
   "cell_type": "markdown",
   "id": "40e766aa-f3e2-491f-be99-d0c6b700d47a",
   "metadata": {},
   "source": [
    "## Track operations\n",
    "From now on, we can track the operations **and the cost** of this project from LangSmith:\n",
    "* [smith.langchain.com](https://smith.langchain.com)"
   ]
  },
  {
   "cell_type": "markdown",
   "id": "4f99504a-1b8f-4360-b342-0b81ffa06aff",
   "metadata": {},
   "source": [
    "## Connect with the .env file located in the same directory of this notebook"
   ]
  },
  {
   "cell_type": "markdown",
   "id": "e39e5789-5bde-42e1-88dd-92dc8e363c24",
   "metadata": {},
   "source": [
    "If you are using the pre-loaded poetry shell, you do not need to install the following package because it is already pre-loaded for you:"
   ]
  },
  {
   "cell_type": "code",
   "execution_count": 1,
   "id": "c5514113-ddca-4ae9-9de6-0b9225b18f3c",
   "metadata": {},
   "outputs": [],
   "source": [
    "#pip install python-dotenv"
   ]
  },
  {
   "cell_type": "code",
   "execution_count": 2,
   "id": "fecd39d0-e72e-4bc2-8a68-2fa4008ea365",
   "metadata": {},
   "outputs": [],
   "source": [
    "import os\n",
    "from dotenv import load_dotenv, find_dotenv\n",
    "_ = load_dotenv(find_dotenv())\n",
    "openai_api_key = os.environ[\"OPENAI_API_KEY\"]"
   ]
  },
  {
   "cell_type": "markdown",
   "id": "03f4a923-b19e-498e-9be5-e47ec4a77d80",
   "metadata": {},
   "source": [
    "#### Install LangChain"
   ]
  },
  {
   "cell_type": "markdown",
   "id": "9fef1e5c-b7e2-4a04-96c5-8f64377b8eba",
   "metadata": {},
   "source": [
    "If you are using the pre-loaded poetry shell, you do not need to install the following package because it is already pre-loaded for you:"
   ]
  },
  {
   "cell_type": "code",
   "execution_count": 3,
   "id": "c1cf94ae-6c39-4475-9c5b-4b74d8d78753",
   "metadata": {},
   "outputs": [],
   "source": [
    "#!pip install langchain"
   ]
  },
  {
   "cell_type": "markdown",
   "id": "189e9e17-dfb0-4fd3-85b9-1fba83771941",
   "metadata": {},
   "source": [
    "## Connect with an LLM"
   ]
  },
  {
   "cell_type": "markdown",
   "id": "b21d23f4-61f5-4227-8a75-7eefde6680ee",
   "metadata": {},
   "source": [
    "If you are using the pre-loaded poetry shell, you do not need to install the following package because it is already pre-loaded for you:"
   ]
  },
  {
   "cell_type": "code",
   "execution_count": 4,
   "id": "148df8e0-361d-4ddd-8709-af48fa1648d1",
   "metadata": {},
   "outputs": [],
   "source": [
    "#!pip install langchain-openai"
   ]
  },
  {
   "cell_type": "code",
   "execution_count": 5,
   "id": "df978ec5-bfd2-4167-bd33-86bc2687d1cb",
   "metadata": {},
   "outputs": [],
   "source": [
    "from langchain_openai import ChatOpenAI\n",
    "\n",
    "chatModel35 = ChatOpenAI(model=\"gpt-3.5-turbo-0125\")\n",
    "chatModel4o = ChatOpenAI(model=\"gpt-4o\")"
   ]
  },
  {
   "cell_type": "markdown",
   "id": "467cbe0d-ca03-423e-b5f8-1f21fa30c51a",
   "metadata": {},
   "source": [
    "## Create the State\n",
    "* **In addition to the built-in messages key, we'll now include a custom key (summary)**."
   ]
  },
  {
   "cell_type": "code",
   "execution_count": 6,
   "id": "0cf7e5a1-f693-4919-bda7-3b283d839b97",
   "metadata": {},
   "outputs": [],
   "source": [
    "from langgraph.graph import MessagesState\n",
    "\n",
    "class State(MessagesState):\n",
    "    summary: str"
   ]
  },
  {
   "cell_type": "markdown",
   "id": "8681d93e-4300-416f-9b60-f526b8f9d6c0",
   "metadata": {},
   "source": [
    "## Create the logic to summarize the conversation\n",
    "* We'll **define a node to tell the LLM to add the summary, if it exists, to the prompt**."
   ]
  },
  {
   "cell_type": "markdown",
   "id": "b99877ff-98c8-4f47-a6b9-bbbf39bb7460",
   "metadata": {},
   "source": [
    "* Logic to call the model:"
   ]
  },
  {
   "cell_type": "code",
   "execution_count": 7,
   "id": "09f6b26c-824c-495d-b1c2-55bfffe2ed56",
   "metadata": {},
   "outputs": [],
   "source": [
    "from langchain_core.messages import SystemMessage, HumanMessage, RemoveMessage\n",
    "\n",
    "# Define the logic to call the LLM model\n",
    "def call_model(state: State):\n",
    "    \n",
    "    # Get the summary if it exists\n",
    "    summary = state.get(\"summary\", \"\")\n",
    "\n",
    "    # If there is a summary, add it to system message and append it to messages\n",
    "    if summary:\n",
    "        \n",
    "        # Add the summary to the system message\n",
    "        system_message = f\"Summary of previous conversation: {summary}\"\n",
    "\n",
    "        # Append the summary of the conversation to the next messages\n",
    "        messages = [SystemMessage(content=system_message)] + state[\"messages\"]\n",
    "    \n",
    "    # If there is no summary, messages remain as they are\n",
    "    else:\n",
    "        messages = state[\"messages\"]\n",
    "    \n",
    "    response = model.invoke(messages)\n",
    "    \n",
    "    return {\"messages\": response}"
   ]
  },
  {
   "cell_type": "markdown",
   "id": "b2dbaffd-3a43-4292-b935-96a44ff4896f",
   "metadata": {},
   "source": [
    "#### Code explanation in simple terms\n",
    "\n",
    "The previous code defines a function called **`call_model`** that interacts with the LLM. Here's a simplified explanation step-by-step:\n",
    "\n",
    "1. **Input: State**  \n",
    "The function takes an input called `state`, which stores:  \n",
    "- **A summary** of previous conversations (optional).  \n",
    "- **A list of messages** (the current conversation).  \n",
    "\n",
    "2. **Check for a Summary**  \n",
    "- **Line: `summary = state.get(\"summary\", \"\")`**  \n",
    "  It checks if there’s a summary stored in the `state`. If there isn’t, it defaults to an empty string (`\"\"`).\n",
    "\n",
    "- **If a summary exists:**  \n",
    "  - A **system message** is created to include the summary.  \n",
    "  - The summary is added to the list of messages to give the LLM some context about past conversations.  \n",
    "\n",
    "- **If no summary exists:**  \n",
    "  - The messages remain unchanged.\n",
    "\n",
    "3. **Prepare Messages**  \n",
    "The `messages` list may now contain:  \n",
    "    - A **system message** (if a summary is present).  \n",
    "    - The existing **conversation messages** from the `state`.\n",
    "\n",
    "4. **Send Messages to the LLM**  \n",
    "    - The **`model.invoke(messages)`** function sends the prepared messages to the LLM for processing.\n",
    "\n",
    "5. **Output: New Messages**  \n",
    "    - The LLM’s response is returned as an updated list of messages in the format:  \n",
    "  ```python\n",
    "  {\"messages\": response}\n",
    "  ```"
   ]
  },
  {
   "cell_type": "markdown",
   "id": "11f0c66d-92ff-4054-be2b-52bbd42a2e55",
   "metadata": {},
   "source": [
    "* This is the **function we will use to summarize the conversation and to add the summary to messages:**"
   ]
  },
  {
   "cell_type": "code",
   "execution_count": 8,
   "id": "966ed5b8-00f8-4905-875c-6c6342cdf62a",
   "metadata": {},
   "outputs": [],
   "source": [
    "def summarize_conversation(state: State):\n",
    "    \n",
    "    # First, we get the existing summary\n",
    "    summary = state.get(\"summary\", \"\")\n",
    "\n",
    "    # Prompt if summary already exists \n",
    "    if summary:\n",
    "        \n",
    "        summary_message = (\n",
    "            f\"This is summary of the conversation to date: {summary}\\n\\n\"\n",
    "            \"Extend the summary by taking into account the new messages above:\"\n",
    "        )\n",
    "\n",
    "    # Prompt if summary does not exist yet\n",
    "    else:\n",
    "        summary_message = \"Create a summary of the conversation above:\"\n",
    "\n",
    "    # Add summary to messages\n",
    "    messages = state[\"messages\"] + [HumanMessage(content=summary_message)]\n",
    "    \n",
    "    response = model.invoke(messages)\n",
    "    \n",
    "    # Delete all but the 2 most recent messages\n",
    "    delete_messages = [RemoveMessage(id=m.id) for m in state[\"messages\"][:-2]]\n",
    "    \n",
    "    return {\"summary\": response.content, \"messages\": delete_messages}"
   ]
  },
  {
   "cell_type": "markdown",
   "id": "ddb2001c-ffaa-4e98-ae7f-7ecb34e13b05",
   "metadata": {},
   "source": [
    "#### Explanation of the previous code in simple terms\n",
    "\n",
    "The previous code defines a function called **`summarize_conversation`**, which creates or updates a summary of a conversation. Here's a simple explanation step-by-step:\n",
    "\n",
    "**1. Input: State**  \n",
    "The function takes an input called `state`, which stores:  \n",
    "- **A summary** of the conversation (optional).  \n",
    "- **A list of messages** exchanged so far.\n",
    "\n",
    "**2. Check for Existing Summary**  \n",
    "- **`summary = state.get(\"summary\", \"\")`**  \n",
    "  Checks if a summary already exists. If not, it defaults to an empty string (`\"\"`).\n",
    "\n",
    "- **If a summary exists:**  \n",
    "  - A prompt is created asking the LLM to **extend the existing summary** by including new messages.  \n",
    "\n",
    "- **If no summary exists:**  \n",
    "  - A prompt is created asking the LLM to **generate a new summary** from the conversation.\n",
    "\n",
    "**3. Add Summary Request to Messages**  \n",
    "- Adds the prompt (request to summarize) as a **new message** to the existing conversation messages.\n",
    "\n",
    "**4. Send Messages to the LLM**  \n",
    "- **`model.invoke(messages)`** sends the updated messages to the LLM for processing.  \n",
    "- The LLM generates a **summary** based on the conversation.\n",
    "\n",
    "**5. Delete Old Messages**  \n",
    "- Keeps only the **2 most recent messages** to avoid storing too many messages.  \n",
    "- Uses **`RemoveMessage`** to mark older messages for deletion.\n",
    "\n",
    "**6. Return Updated State**  \n",
    "The function outputs:  \n",
    "1. **Updated summary** based on the LLM’s response.  \n",
    "2. **Pruned messages** (keeps only the latest 2 messages)."
   ]
  },
  {
   "cell_type": "markdown",
   "id": "fa29dc14-c54c-4bfd-be07-4af25435c9c0",
   "metadata": {},
   "source": [
    "* We will use a **conditional edge to determine whether to produce a summary based on the conversation length**.\n",
    "    * If there are more than six messages, we will summarize the conversation:"
   ]
  },
  {
   "cell_type": "code",
   "execution_count": 9,
   "id": "a410472a-b5b3-4ee4-8853-604183acb764",
   "metadata": {},
   "outputs": [],
   "source": [
    "from langgraph.graph import END\n",
    "\n",
    "# Determine whether to end or summarize the conversation\n",
    "def should_continue(state: State):\n",
    "    \n",
    "    \"\"\"Return the next node to execute.\"\"\"\n",
    "    \n",
    "    messages = state[\"messages\"]\n",
    "    \n",
    "    # If there are more than six messages, \n",
    "    # then we will summarize the conversation\n",
    "    if len(messages) > 6:\n",
    "        return \"summarize_conversation\"\n",
    "    \n",
    "    # Otherwise we can just end\n",
    "    return END"
   ]
  },
  {
   "cell_type": "markdown",
   "id": "c1db24c4-b816-45a9-9a55-4d12065f339f",
   "metadata": {},
   "source": [
    "## App with the messages summary in memory\n",
    "* As we saw in a previous lecture when we added short-term memory to our agent, **MemorySaver** is an in-memory key-value store. All we need to do is compile the graph with a checkpointer, and our app has memory."
   ]
  },
  {
   "cell_type": "code",
   "execution_count": 10,
   "id": "97ed928c-707b-450d-8b8f-97a4fa60226f",
   "metadata": {},
   "outputs": [
    {
     "data": {
      "image/png": "[encoded data removed]",
      "text/plain": [
       "<IPython.core.display.Image object>"
      ]
     },
     "metadata": {},
     "output_type": "display_data"
    }
   ],
   "source": [
    "from IPython.display import Image, display\n",
    "from langgraph.checkpoint.memory import MemorySaver\n",
    "from langgraph.graph import StateGraph, START\n",
    "\n",
    "# Define a new graph\n",
    "workflow = StateGraph(State)\n",
    "\n",
    "# PAY ATTENTION HERE: Here we use the first function \n",
    "# we defined to create the first node.\n",
    "# Start conversation with the LLM:\n",
    "workflow.add_node(\"conversation\", call_model)\n",
    "\n",
    "# PAY ATTENTION HERE: Here we use the second function \n",
    "# we defined to create the second node.\n",
    "# Summarize the conversation:\n",
    "workflow.add_node(summarize_conversation)\n",
    "\n",
    "# Set the entry point as conversation\n",
    "workflow.add_edge(START, \"conversation\")\n",
    "\n",
    "# PAY ATTENTION HERE: Here we use the third function \n",
    "# we defined to create a conditional edge.\n",
    "# If there are more than six messages, go to Summarize the conversation:\n",
    "workflow.add_conditional_edges(\"conversation\", should_continue)\n",
    "workflow.add_edge(\"summarize_conversation\", END)\n",
    "\n",
    "# PAY ATTENTION HERE: See how we add MemorySaver as checkpointer\n",
    "memory = MemorySaver()\n",
    "graph = workflow.compile(checkpointer=memory)\n",
    "\n",
    "display(Image(graph.get_graph().draw_mermaid_png()))"
   ]
  },
  {
   "cell_type": "markdown",
   "id": "2e263f81-5520-4b9d-99fd-bdae1f9e8927",
   "metadata": {},
   "source": [
    "## Creating a different memory for each thread"
   ]
  },
  {
   "cell_type": "code",
   "execution_count": 11,
   "id": "408fae62-092d-4f51-9ba7-d85fcd1bab90",
   "metadata": {},
   "outputs": [
    {
     "name": "stdout",
     "output_type": "stream",
     "text": [
      "==================================\u001b[1m Ai Message \u001b[0m==================================\n",
      "\n",
      "Hello, Julio! How can I assist you today?\n",
      "==================================\u001b[1m Ai Message \u001b[0m==================================\n",
      "\n",
      "You mentioned that your name is Julio. How can I help you today?\n",
      "==================================\u001b[1m Ai Message \u001b[0m==================================\n",
      "\n",
      "The San Francisco Bay is a beautiful area with a lot to offer! From the iconic Golden Gate Bridge to Alcatraz Island and the vibrant city life, there's always something interesting to see and do. Do you have any favorite spots or activities around the Bay?\n"
     ]
    }
   ],
   "source": [
    "model = ChatOpenAI(model=\"gpt-4o\")\n",
    "\n",
    "# PAY ATTENTION HERE: see how add the thread_id in the config\n",
    "config = {\"configurable\": {\"thread_id\": \"1\"}}\n",
    "\n",
    "# Our first message to the chatbot\n",
    "input_message = HumanMessage(content=\"Hi! I'm Julio\")\n",
    "\n",
    "# PAY ATTENTION HERE: see how we include the config with the thread_id\n",
    "output = graph.invoke({\"messages\": [input_message]}, config) \n",
    "\n",
    "# Prints the response from the chatbot\n",
    "for m in output['messages'][-1:]:\n",
    "    m.pretty_print()\n",
    "\n",
    "# Our second message to the chatbot\n",
    "input_message = HumanMessage(content=\"what's my name?\")\n",
    "\n",
    "# PAY ATTENTION HERE: see how we include the config with the thread_id\n",
    "output = graph.invoke({\"messages\": [input_message]}, config) \n",
    "\n",
    "# Prints the response from the chatbot\n",
    "for m in output['messages'][-1:]:\n",
    "    m.pretty_print()\n",
    "\n",
    "# Our third message to the chatbot\n",
    "input_message = HumanMessage(content=\"I like the San Francisco Bay\")\n",
    "\n",
    "# PAY ATTENTION HERE: see how we include the config with the thread_id\n",
    "output = graph.invoke({\"messages\": [input_message]}, config) \n",
    "\n",
    "# Prints the response from the chatbot\n",
    "for m in output['messages'][-1:]:\n",
    "    m.pretty_print()"
   ]
  },
  {
   "cell_type": "code",
   "execution_count": 12,
   "id": "f351464b-634d-4f0c-8567-8ed3739e7ff9",
   "metadata": {},
   "outputs": [
    {
     "name": "stdout",
     "output_type": "stream",
     "text": [
      "==================================\u001b[1m Ai Message \u001b[0m==================================\n",
      "\n",
      "Many people have expressed similar sentiments about changes in San Francisco over the years. Factors such as the high cost of living, housing shortages, and an increase in homelessness have contributed to these feelings. However, the city still retains its unique charm, cultural diversity, and innovation-driven atmosphere. It's a complex issue with many facets. What aspects of living in San Francisco have you found to be challenging?\n"
     ]
    }
   ],
   "source": [
    "# Our fourth message to the chatbot\n",
    "input_message = HumanMessage(content=\"The city of San Francisco is not as friendly to live as it used to be\")\n",
    "\n",
    "# PAY ATTENTION HERE: see how we include the config with the thread_id\n",
    "output = graph.invoke({\"messages\": [input_message]}, config) \n",
    "\n",
    "# Prints the response from the chatbot\n",
    "for m in output['messages'][-1:]:\n",
    "    m.pretty_print()\n",
    "\n",
    "# PAY ATTENTION HERE: now we have 4 inputs and 4 outputs, \n",
    "# so in total we have 8 messages (4 inputs + 4 outputs)"
   ]
  },
  {
   "cell_type": "markdown",
   "id": "19c91974-42bc-4947-8496-3784fa7f7ed9",
   "metadata": {},
   "source": [
    "* Let's see the conversation summary:"
   ]
  },
  {
   "cell_type": "code",
   "execution_count": 13,
   "id": "409075a8-0808-4a51-be52-2e0d4112ed06",
   "metadata": {},
   "outputs": [
    {
     "data": {
      "text/plain": [
       "\"Julio introduced himself and mentioned that he likes the San Francisco Bay. We discussed the beauty and attractions of the area, such as the Golden Gate Bridge and Alcatraz Island. Julio then commented that San Francisco is not as friendly to live in as it used to be, and we touched on challenges like the high cost of living and housing shortages while acknowledging the city's ongoing charm and cultural diversity.\""
      ]
     },
     "execution_count": 13,
     "metadata": {},
     "output_type": "execute_result"
    }
   ],
   "source": [
    "graph.get_state(config).values.get(\"summary\",\"\")"
   ]
  },
  {
   "cell_type": "markdown",
   "id": "dbc24f4f-d23c-4202-992d-91b0623136ae",
   "metadata": {},
   "source": [
    "## How to execute the code from Visual Studio Code\n",
    "* In Visual Studio Code, see the file 013-summarizing-messages.py\n",
    "* In terminal, make sure you are in the directory of the file and run:\n",
    "    * python 013-summarizing-messages.py"
   ]
  },
  {
   "cell_type": "code",
   "execution_count": null,
   "id": "b1af248e-6069-44b3-a2cd-a20aa3259874",
   "metadata": {},
   "outputs": [],
   "source": []
  }
 ],
 "metadata": {
  "kernelspec": {
   "display_name": "Python 3 (ipykernel)",
   "language": "python",
   "name": "python3"
  },
  "language_info": {
   "codemirror_mode": {
    "name": "ipython",
    "version": 3
   },
   "file_extension": ".py",
   "mimetype": "text/x-python",
   "name": "python",
   "nbconvert_exporter": "python",
   "pygments_lexer": "ipython3",
   "version": "3.12.5"
  }
 },
 "nbformat": 4,
 "nbformat_minor": 5
}
